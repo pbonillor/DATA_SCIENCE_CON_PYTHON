{
  "nbformat": 4,
  "nbformat_minor": 0,
  "metadata": {
    "colab": {
      "provenance": []
    },
    "language_info": {
      "name": "python"
    },
    "kernelspec": {
      "name": "python3",
      "display_name": "Python 3"
    }
  },
  "cells": [
    {
      "cell_type": "markdown",
      "source": [
        "Clasificación de vinos con machine learning\n",
        "===================================================================\n",
        "\n",
        "En este trabajo vamos a utilizar técnicas de machine learning con el objetivo de clasificar vinos a partir de sus componentes químicos y algunas otras características medidas en cada muestra, datos obtenidos de mediciones reales sobre vinos de 3 diferentes cultivadores. Descargue los datos desde http://archive.ics.uci.edu/dataset/109/wine\n",
        "\n",
        "El problema:\n",
        "============\n",
        "\n",
        "Se poseen mediciones de distintos químicos y algunos otros aspectos presentes en muestras de vinos provenientes de 3 cultivadores diferentes. Con esta información se desea aprender una función que permita determinar el origen de nuevas muestras de vino, solo a partir de las mediciones de sus componentes.\n",
        "\n",
        "La solución:\n",
        "============\n",
        "\n",
        "En primer lugar tenemos que determinar si los datos son realmente clasificables. Es decir, tenemos que intentar verificar que realmente se puedan \"separar\" los datos en grupos claramente con curvas. Si los datos están muy \"mezclados\" es probable que no podamos encontrar una función que los separe con precisión aceptable.\n",
        "\n",
        "Como las entradas tienen 13 dimensiones (los compuestos químicos que tiene cada muestra), no es posible armar un gráfico que muestre los puntos con tudos sus datos, y allí ver su agrupación. Pero algo que sí podemos hacer es graficar los datos tomando de a pares de dimensiones, y visualizar esos datos incompletos. Si en algunas de esas visualizaciones los datos son claramente separables, entonces es posible encontrar una función que clasifique correctamente.\n",
        "\n",
        "Para aprender la función deseada vamos a intentar utilizar el algoritmo K-means para clasificación, implementado en la biblioteca Scikit-Learn. Como el algoritmo requiere que se defina el parámetro K (la cantidad de cluster), vamos a evaluar el algoritmo con distintos valores de K y elegir el valor que mejores resultados obtenga."
      ],
      "metadata": {
        "id": "NhoABZOo7Kvl"
      }
    },
    {
      "cell_type": "markdown",
      "source": [
        "Código de ayuda y ejercicios:\n",
        "=============================\n",
        "\n",
        "Estas son las columnas que tienen nuestros datos de entrada. Son los distintos valores medidos en cada muestra:"
      ],
      "metadata": {
        "id": "WeZIC11S7Kvp"
      }
    },
    {
      "cell_type": "code",
      "source": [
        "features = 'Alcohol', 'Malic acid', 'Ash', 'Alcalinity of ash', 'Magnesium', 'Total phenols', 'Flavanoids', 'Nonflavanoid phenols', 'Proanthocyanins', 'Color intensity', 'Hue', 'OD280/OD315 of diluted wines', 'Proline'"
      ],
      "outputs": [],
      "metadata": {
        "id": "qNoXFs5m7Kvq"
      },
      "execution_count": 4
    },
    {
      "cell_type": "markdown",
      "source": [
        "Estas son las distintas clases que se encuentran en los datos de salida, las etiquetas que vamos a usar para clasificar a cada muestra. Y definimos también colores para cada clase, que se usan en las gráficas."
      ],
      "metadata": {
        "id": "NpK8cX2p7Kvq"
      }
    },
    {
      "cell_type": "code",
      "source": [
        "clases = 'cultivador 1', 'cultivador 2', 'cultivador 3'\n",
        "colores_clases = 'red', 'green', 'blue'"
      ],
      "outputs": [],
      "metadata": {
        "id": "AjqJYncp7Kvq"
      },
      "execution_count": 5
    },
    {
      "cell_type": "markdown",
      "source": [
        "Lo primero que tenemos que hacer es leer los datos que vamos a usar para entrenar y testear al clasificador, que están en un archivo con formato csv. Los leemos y convertimos a arrays de numpy, que son mucho más eficientes y rápidos que usar listas de python normales."
      ],
      "metadata": {
        "id": "8J6WU1tJ7Kvq"
      }
    },
    {
      "cell_type": "markdown",
      "source": [
        "El conjunto de datos de entrada es una matriz de 178 filas (las 178 muestras de vinos obtenidas), y 13 columnas (features), que son los distintos valores medidos en cada muestra.\n",
        "El conjunto de datos de salida es un vector con las 178 clases correspondientes a cada muestra. Las clases van de 0 a 2."
      ],
      "metadata": {
        "id": "JZW3onm07Kvr"
      }
    },
    {
      "cell_type": "code",
      "source": [
        "print entradas.shape\n",
        "print salidas.shape"
      ],
      "outputs": [
        {
          "output_type": "error",
          "ename": "SyntaxError",
          "evalue": "ignored",
          "traceback": [
            "\u001b[0;36m  File \u001b[0;32m\"<ipython-input-6-80b233c6c162>\"\u001b[0;36m, line \u001b[0;32m1\u001b[0m\n\u001b[0;31m    print entradas.shape\u001b[0m\n\u001b[0m    ^\u001b[0m\n\u001b[0;31mSyntaxError\u001b[0m\u001b[0;31m:\u001b[0m Missing parentheses in call to 'print'. Did you mean print(...)?\n"
          ]
        }
      ],
      "metadata": {
        "colab": {
          "base_uri": "https://localhost:8080/",
          "height": 141
        },
        "id": "iz6Z-iWY7Kvr",
        "outputId": "d4a636db-79c9-4f28-eb83-2bf8acd0a6fe"
      },
      "execution_count": 6
    },
    {
      "cell_type": "markdown",
      "source": [
        "Como no es posible graficar las muestras debido a que tienen más de 3 dimensiones, si queremos graficarlas para analizar qué tan separables son, debemos hacerlo tomando de a pares de dimensiones. Por ejemplo, graficar solo las dimensiones \"Malic acid\" y \"Nonflavanoid phenols\".\n",
        "\n",
        "El siguiente gráfico hace eso, y como podemos ver, si tomamos solo esas dimensiones los datos no son tan separables por sus clases."
      ],
      "metadata": {
        "id": "OPkeJV3k7Kvr"
      }
    },
    {
      "cell_type": "code",
      "source": [
        "indice_feature1 = 1\n",
        "indice_feature2 = 7\n",
        "\n",
        "salidas_a_colores = [colores_clases[v] for v in salidas]\n",
        "\n",
        "scatter(entradas[:, indice_feature1],\n",
        "        entradas[:, indice_feature2],\n",
        "        color=salidas_a_colores,\n",
        "        title='Separables?',\n",
        "        x_axis_label=features[indice_feature1],\n",
        "        y_axis_label=features[indice_feature2])\n",
        "show()"
      ],
      "outputs": [],
      "metadata": {
        "id": "1HgwF-FT7Kvs"
      },
      "execution_count": null
    },
    {
      "cell_type": "markdown",
      "source": [
        "Ejercicio 1\n",
        "===========\n",
        "\n",
        "Modificar el código que grafica las clases en base a dos dimensiones, para que arme un gráfico por cada posible par de dimensiones (features).\n",
        "\n",
        "Ejercicio 2\n",
        "===========\n",
        "\n",
        "Viendo todos los gráficos del ejercicio 1, ¿alguno de ellos permite saber que los datos son fácilmente clasificables (separables)? ¿Con cuáles dimensiones se ve eso? (responder editando esta misma celda)"
      ],
      "metadata": {
        "id": "3Bf1aUQz7Kvs"
      }
    },
    {
      "cell_type": "markdown",
      "source": [
        "---\n",
        "\n",
        "En clases aprendimos sobre los riesgos del sobreentrenamiento (overfitting), y que este problema se combate separando nuestros datos en un set de entrenamiento y otro de test. Scikit learn tiene funcionalidad específica para separar sets de datos de esa manera, la función ```train_test_split```.\n",
        "\n",
        "Ejercicio 3\n",
        "===========\n",
        "\n",
        "Completar la siguiente celda de código para que las variables contengan los sets generados con la función ```train_test_split```."
      ],
      "metadata": {
        "id": "VUAQ9BZj7Kvs"
      }
    },
    {
      "cell_type": "code",
      "source": [
        "entradas_entrenamiento, entradas_test, salidas_entrenamiento, salidas_test =  # llamada a train_test_split"
      ],
      "outputs": [],
      "metadata": {
        "id": "4IW5BRL37Kvs"
      },
      "execution_count": null
    },
    {
      "cell_type": "markdown",
      "source": [
        "Ahora podemos crear un clasificador de tipo K-vecinos, y entrenarlo con los datos del set de entrenamiento. Como sabemos, k-vecinos requiere que se le defina el parámetro K (la cantidad de vecinos a observar al predecir), y desconocemos un valor adecuado para K. Pero para realizar una prueba inicial, elegimos el valor 1."
      ],
      "metadata": {
        "id": "7nq-1rSJ7Kvs"
      }
    },
    {
      "cell_type": "code",
      "source": [
        "clasificador = ?"
      ],
      "outputs": [],
      "metadata": {
        "id": "W4oq894f7Kvs"
      },
      "execution_count": null
    },
    {
      "cell_type": "markdown",
      "source": [
        "Entrenamos el clasificador:"
      ],
      "metadata": {
        "id": "JhzoP5Tv7Kvs"
      }
    },
    {
      "cell_type": "code",
      "source": [
        "clasificador.fit(entradas_entrenamiento, salidas_entrenamiento)"
      ],
      "outputs": [],
      "metadata": {
        "id": "qQzXx4U97Kvs"
      },
      "execution_count": null
    },
    {
      "cell_type": "markdown",
      "source": [
        "Y ahora podemos usarlo para predecir salidas a partir de entradas. Vamos a predecir las salidas de las entradas de los dos conjuntos:"
      ],
      "metadata": {
        "id": "EM7gPiq-7Kvs"
      }
    },
    {
      "cell_type": "code",
      "source": [
        "salidas_predichas_entrenamiento = clasificador.predict(entradas_entrenamiento)\n",
        "salidas_predichas_test = clasificador.predict(entradas_test)"
      ],
      "outputs": [],
      "metadata": {
        "id": "eQ67Ugzq7Kvs"
      },
      "execution_count": null
    },
    {
      "cell_type": "markdown",
      "source": [
        "Con las salidas predichas podemos comparar la precisión, accuracy y recall en cada uno de los dos conjuntos, comparando las predicciones con las salidas reales que esperábamos:"
      ],
      "metadata": {
        "id": "EgcCEMOT7Kvs"
      }
    },
    {
      "cell_type": "code",
      "source": [
        "conjuntos_salidas = (\n",
        "    ('entrenamiento', salidas_entrenamiento, salidas_predichas_entrenamiento),\n",
        "    ('test', salidas_test, salidas_predichas_test),\n",
        ")\n",
        "medidas = (precision_score, accuracy_score, recall_score)\n",
        "\n",
        "for nombre, salidas, salidas_predichas in conjuntos_salidas:\n",
        "    print 'Set de', nombre\n",
        "    for medida in medidas:\n",
        "        print '   ', medida.func_name, ':', medida(salidas, salidas_predichas)"
      ],
      "outputs": [],
      "metadata": {
        "id": "q_LCZ_Up7Kvt"
      },
      "execution_count": null
    },
    {
      "cell_type": "markdown",
      "source": [
        "Ejercicio 4\n",
        "===========\n",
        "\n",
        "¿Por qué al medir la performance en el conjunto de entrenamiento, las predicciones fueron perfectas? (1.0 en todas las métricas de ese conjunto) (responder editando esta misma celda)\n",
        "\n",
        "---\n",
        "\n",
        "Siendo que el resultado en el conjunto de test (probablemente) no fue tan bueno, nos interesaría probar con otros valores de K y evaluar la performance con esos otros valores. Y no solo con algunos valores elegidos al azar, sino que nos interesa evaluar el algoritmo para todos los posibles valores de K desde 1 hasta 150.\n",
        "\n",
        "Vamos a crear algunas variables donde ir guardando las métricas para cada valor de K:"
      ],
      "metadata": {
        "id": "tW15_8C07Kvt"
      }
    },
    {
      "cell_type": "code",
      "source": [
        "precisiones = [0,] * 151\n",
        "accuracies = [0,] * 151\n",
        "recalls = [0,] * 151"
      ],
      "outputs": [],
      "metadata": {
        "id": "F7Vurcd37Kvt"
      },
      "execution_count": null
    },
    {
      "cell_type": "markdown",
      "source": [
        "Ejercicio 5\n",
        "===========\n",
        "\n",
        "Escribir código que vaya desde K=1 hasta K=150, y en cada iteración cree un clasificador con el valor correspondiente de K, lo entrene, lo use para predecir las salidas del conjunto de test, evalúe precisión, accuracy y recall en esas predicciones, y guarde las 3 métricas en las variables anteriores, usando K como índice. Ej:\n",
        "\n",
        "    precisiones[14] = el número que dio la precisión del clasificador con K=12\n",
        "\n",
        "Estas métricas deben ser evaluadas **solo** para el conjunto de test."
      ],
      "metadata": {
        "id": "9p-o8ZCa7Kvt"
      }
    },
    {
      "cell_type": "code",
      "source": [
        "# código que rellena los valores en precisiones, accuracies y recalls"
      ],
      "outputs": [],
      "metadata": {
        "id": "rl4s1sgS7Kvt"
      },
      "execution_count": null
    },
    {
      "cell_type": "markdown",
      "source": [
        "Con los valores completos, podemos ahora graficar las métricas de performance con respecto a los valores posibles de K:"
      ],
      "metadata": {
        "id": "NJ7jTpwu7Kvt"
      }
    },
    {
      "cell_type": "code",
      "source": [
        "indice_feature1 = 1\n",
        "indice_feature2 = 7\n",
        "\n",
        "salidas_a_colores = [colores_clases[v] for v in salidas]\n",
        "\n",
        "ks = range(1, 151)\n",
        "\n",
        "datos_medidas = (\n",
        "    (u'Precisión', 'red', precisiones),\n",
        "    (u'Accuracy', 'green', accuracies),\n",
        "    (u'Recall', 'blue', recalls),\n",
        ")\n",
        "\n",
        "figure(title='Valores')\n",
        "hold()\n",
        "\n",
        "for nombre, color, valores in datos_medidas:\n",
        "    line(ks, valores[1:],\n",
        "         color=color,\n",
        "         legend=nombre,\n",
        "         x_axis_label='k')\n",
        "\n",
        "show()\n",
        "hold(False)"
      ],
      "outputs": [],
      "metadata": {
        "id": "-SeMl-Jh7Kvt"
      },
      "execution_count": null
    },
    {
      "cell_type": "markdown",
      "source": [
        "Ejercicio 6\n",
        "===========\n",
        "\n",
        "Habiendo visualizado la performance para los distintos valores de K, ¿qué valor de K elegirían como el más adecuado para utilizar? ¿Por qué? (responder editando esta misma celda)\n",
        "\n",
        "Ejercicio 7\n",
        "===========\n",
        "\n",
        "El valor de precisión obtenido para ese K, ¿es válido como estimado de la precisión que tendríamos prediciendo futuras muestras que no hayan estado en los datos que utilizamos en esta entrega? ¿Por qué? ¿Cómo estimarían dicha precisión? (responder editando esta misma celda)"
      ],
      "metadata": {
        "id": "tDw9NkmA7Kvt"
      }
    }
  ]
}