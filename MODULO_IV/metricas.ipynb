{
  "cells": [
    {
      "cell_type": "markdown",
      "metadata": {
        "id": "9WpJJ3MkOvHW"
      },
      "source": [
        "# Evaluación de modelos, métricas de puntuación y manejo de conjuntos de datos no balanceados."
      ]
    },
    {
      "cell_type": "markdown",
      "metadata": {
        "id": "Ax9TNJz5OvHZ"
      },
      "source": [
        "Por defecto, en scikit-learn, se utiliza el ``accuracy`` para clasificación, que es el ratio de patrones correctamente clasificados y el $R^2$ para regresión, que es el coeficiente de determinación.\n",
        "Estas medidas son razonables para muchos escenarios. Sin embargo, dependiendo de la tarea que estemos tratando, estas no tienen porque ser las mejores opciones (y a veces pueden ser opciones muy poco recomendables).\n",
        "Vamos a centrarnos en la tarea de clasificación, volviendo de nuevo al problema de clasificación de dígitos manuscritos. Scikit-learn tiene métodos muy útiles en el paquete ``sklearn.metrics`` para ayudarnos a entrenar un clasificador y luego evaluarlo de distintas formas:"
      ]
    },
    {
      "cell_type": "code",
      "execution_count": 1,
      "metadata": {
        "id": "o4C1y-thOvHZ"
      },
      "outputs": [],
      "source": [
        "%matplotlib inline\n",
        "import matplotlib.pyplot as plt\n",
        "import numpy as np\n",
        "np.set_printoptions(precision=2)"
      ]
    },
    {
      "cell_type": "code",
      "execution_count": 2,
      "metadata": {
        "colab": {
          "base_uri": "https://localhost:8080/"
        },
        "id": "wUE1KMzQOvHa",
        "outputId": "202d8b65-2fbb-4f73-abc1-27edc98f540a"
      },
      "outputs": [
        {
          "output_type": "stream",
          "name": "stdout",
          "text": [
            "CCR: 0.948889\n"
          ]
        },
        {
          "output_type": "stream",
          "name": "stderr",
          "text": [
            "/usr/local/lib/python3.10/dist-packages/sklearn/svm/_base.py:1244: ConvergenceWarning: Liblinear failed to converge, increase the number of iterations.\n",
            "  warnings.warn(\n"
          ]
        }
      ],
      "source": [
        "from sklearn.datasets import load_digits\n",
        "from sklearn.model_selection import train_test_split\n",
        "from sklearn.svm import LinearSVC\n",
        "\n",
        "digits = load_digits()\n",
        "X, y = digits.data, digits.target\n",
        "X_train, X_test, y_train, y_test = train_test_split(X, y,\n",
        "                                                    random_state=1,\n",
        "                                                    stratify=y,\n",
        "                                                    test_size=0.25)\n",
        "\n",
        "classifier = LinearSVC(random_state=1).fit(X_train, y_train)\n",
        "y_test_pred = classifier.predict(X_test)\n",
        "\n",
        "print(\"CCR: %f\"%(classifier.score(X_test, y_test)))"
      ]
    },
    {
      "cell_type": "markdown",
      "metadata": {
        "id": "jwgfcKgMOvHb"
      },
      "source": [
        "Vemos que hemos predicho alrededor de un 95% de patrones de forma correcta. Para problemas multi-clase, a veces es muy útil saber qué clases son más difíciles de predecir y cuáles más fáciles o incluso qué tipo de errores son los más comunes. Una forma de tener más información en este sentido es la **matriz de confusión**, que muestra para cada clase (filas) cuántas veces se predicen qué clases (columnas)."
      ]
    },
    {
      "cell_type": "code",
      "execution_count": 3,
      "metadata": {
        "colab": {
          "base_uri": "https://localhost:8080/"
        },
        "id": "o-8ku3gEOvHb",
        "outputId": "eca16530-c466-41a6-9461-b001b25fdd5d"
      },
      "outputs": [
        {
          "output_type": "execute_result",
          "data": {
            "text/plain": [
              "array([[44,  0,  0,  0,  1,  0,  0,  0,  0,  0],\n",
              "       [ 0, 43,  0,  0,  0,  0,  1,  0,  2,  0],\n",
              "       [ 0,  0, 44,  0,  0,  0,  0,  0,  0,  0],\n",
              "       [ 0,  0,  0, 45,  0,  0,  0,  0,  0,  1],\n",
              "       [ 0,  1,  0,  0, 42,  0,  0,  1,  0,  1],\n",
              "       [ 0,  0,  0,  0,  0, 43,  1,  1,  0,  1],\n",
              "       [ 0,  0,  0,  0,  0,  1, 44,  0,  0,  0],\n",
              "       [ 0,  1,  0,  0,  1,  0,  0, 42,  1,  0],\n",
              "       [ 0,  4,  0,  1,  0,  0,  0,  0, 37,  1],\n",
              "       [ 0,  0,  0,  0,  0,  1,  0,  0,  1, 43]])"
            ]
          },
          "metadata": {},
          "execution_count": 3
        }
      ],
      "source": [
        "from sklearn.metrics import confusion_matrix\n",
        "confusion_matrix(y_test, y_test_pred)"
      ]
    },
    {
      "cell_type": "markdown",
      "metadata": {
        "id": "lwdNriCBOvHb"
      },
      "source": [
        "A veces un gráfico es más fácil de leer:"
      ]
    },
    {
      "cell_type": "code",
      "execution_count": 4,
      "metadata": {
        "colab": {
          "base_uri": "https://localhost:8080/",
          "height": 449
        },
        "id": "Q0yTPZUkOvHc",
        "outputId": "56835ee2-5a0c-45bd-f461-242c6af19792"
      },
      "outputs": [
        {
          "output_type": "display_data",
          "data": {
            "text/plain": [
              "<Figure size 640x480 with 2 Axes>"
            ],
            "image/png": "[encoded data removed]"
          },
          "metadata": {}
        }
      ],
      "source": [
        "plt.imshow(confusion_matrix(y_test, y_test_pred), cmap=\"Blues\")\n",
        "plt.colorbar(shrink=0.8)\n",
        "plt.xticks(range(10))\n",
        "plt.yticks(range(10))\n",
        "plt.xlabel(\"Etiqueta predicha\")\n",
        "plt.ylabel(\"Etiqueta real\");"
      ]
    },
    {
      "cell_type": "markdown",
      "metadata": {
        "id": "re61hiMyOvHc"
      },
      "source": [
        "Podemos ver que la mayoría de valores están en la diagonal principal, lo que significa que predecimos casi todos los ejemplos correctamente. Las entradas que no están en la diagonal principal nos muestran que hay bastantes ochos clasificados como unos, y que los nueves son fácilmente confundibles con el resto de clases."
      ]
    },
    {
      "cell_type": "markdown",
      "metadata": {
        "id": "OG3sY9JQOvHc"
      },
      "source": [
        "Otra función muy útil es ``classification_report`` que nos proporciona los valores de precisión, recall, puntuación f y el soporte para todas las clases. La precisión nos dice cuantas de las predicciones de una clase, son realmente de esa clase. Sea TP, FP, TN, FN \"true positive\" (verdaderos positivos), \"false positive\", (falsos positivos),\"true negative\" (verdaderos negativos) y \"false negative\" (falsos negativos), respectivamente:"
      ]
    },
    {
      "cell_type": "markdown",
      "metadata": {
        "id": "Zo0LAB4BOvHd"
      },
      "source": [
        "Precision = TP / (TP + FP)"
      ]
    },
    {
      "cell_type": "markdown",
      "metadata": {
        "id": "WsWVeToKOvHd"
      },
      "source": [
        "El recall representa cuantos ejemplos de la clase fueron clasificados correctamente (accuracy considerando solo esa clase):"
      ]
    },
    {
      "cell_type": "markdown",
      "metadata": {
        "id": "lcfcsF0mOvHd"
      },
      "source": [
        "Recall = TP / (TP + FN)"
      ]
    },
    {
      "cell_type": "markdown",
      "metadata": {
        "id": "iTyIdiFbOvHd"
      },
      "source": [
        "El valor F1 es la media geométrica de la precisión y el recall:\n",
        "\n",
        "F1 = 2 x (precision x recall) / (precision + recall)"
      ]
    },
    {
      "cell_type": "markdown",
      "metadata": {
        "id": "kFkq0AkDOvHd"
      },
      "source": [
        "Todas estas métricas están en el intervalo $[0,1]$, donde un 1 es una puntuación perfecta."
      ]
    },
    {
      "cell_type": "code",
      "execution_count": 5,
      "metadata": {
        "colab": {
          "base_uri": "https://localhost:8080/"
        },
        "id": "Pm4vXepcOvHd",
        "outputId": "7f6573ea-5b9e-4e33-df87-7c45fc626bc7"
      },
      "outputs": [
        {
          "output_type": "stream",
          "name": "stdout",
          "text": [
            "              precision    recall  f1-score   support\n",
            "\n",
            "           0       1.00      0.98      0.99        45\n",
            "           1       0.88      0.93      0.91        46\n",
            "           2       1.00      1.00      1.00        44\n",
            "           3       0.98      0.98      0.98        46\n",
            "           4       0.95      0.93      0.94        45\n",
            "           5       0.96      0.93      0.95        46\n",
            "           6       0.96      0.98      0.97        45\n",
            "           7       0.95      0.93      0.94        45\n",
            "           8       0.90      0.86      0.88        43\n",
            "           9       0.91      0.96      0.93        45\n",
            "\n",
            "    accuracy                           0.95       450\n",
            "   macro avg       0.95      0.95      0.95       450\n",
            "weighted avg       0.95      0.95      0.95       450\n",
            "\n"
          ]
        }
      ],
      "source": [
        "from sklearn.metrics import classification_report\n",
        "print(classification_report(y_test, y_test_pred))"
      ]
    },
    {
      "cell_type": "markdown",
      "metadata": {
        "id": "HEFtAHR5OvHd"
      },
      "source": [
        "Estas métricas son especialmente útiles en dos casos particulares:\n",
        "1. Clasificación no balanceada, es decir, una o varias clases son mucho menos frecuentes (hay menos casos en el conjunto de entrenamiento) que el resto de clases.\n",
        "2. Costes asimétricos, esto es, algunos tipos de errores son más \"costosos\" que el resto."
      ]
    },
    {
      "cell_type": "markdown",
      "metadata": {
        "id": "d4TdXN9nOvHd"
      },
      "source": [
        "Vamos a ver el primer caso. Imagina que tenemos un ratio de 1:9 para un problema de clasificación (lo cuál no es muy exagerado, piensa por ejemplo en la predicción de clicks sobre banners de publicidad, donde a lo mejor solo un 0.001% de los anunciados son visitados):"
      ]
    },
    {
      "cell_type": "code",
      "execution_count": 6,
      "metadata": {
        "colab": {
          "base_uri": "https://localhost:8080/"
        },
        "id": "6xVGSOLBOvHe",
        "outputId": "c2bbc656-6121-4fcc-ab39-50793168f5c2"
      },
      "outputs": [
        {
          "output_type": "execute_result",
          "data": {
            "text/plain": [
              "array([0.1, 0.1, 0.1, 0.1, 0.1, 0.1, 0.1, 0.1, 0.1, 0.1])"
            ]
          },
          "metadata": {},
          "execution_count": 6
        }
      ],
      "source": [
        "np.bincount(y) / y.shape[0]"
      ]
    },
    {
      "cell_type": "markdown",
      "metadata": {
        "id": "eCPo1ss6OvHe"
      },
      "source": [
        "Para probar este escenario, vamos a clasificar el dígito 3 contra el resto (el problema de clasificación es un problema binario, ¿es este dígito un 3?):"
      ]
    },
    {
      "cell_type": "code",
      "execution_count": 7,
      "metadata": {
        "id": "0zRHdKcnOvHe"
      },
      "outputs": [],
      "source": [
        "X, y = digits.data, digits.target == 3"
      ]
    },
    {
      "cell_type": "markdown",
      "metadata": {
        "id": "fR4tx2GFOvHe"
      },
      "source": [
        "Ahora vamos a aplicar validación cruzada con un clasificador para ver que tal funciona:"
      ]
    },
    {
      "cell_type": "code",
      "execution_count": 8,
      "metadata": {
        "colab": {
          "base_uri": "https://localhost:8080/"
        },
        "id": "gD_DRdpgOvHe",
        "outputId": "cfea0dab-bdc8-4363-a4f5-ab07d594d655"
      },
      "outputs": [
        {
          "output_type": "execute_result",
          "data": {
            "text/plain": [
              "array([1.  , 0.96, 1.  , 1.  , 0.96])"
            ]
          },
          "metadata": {},
          "execution_count": 8
        }
      ],
      "source": [
        "from sklearn.model_selection import cross_val_score\n",
        "from sklearn.svm import SVC\n",
        "\n",
        "cross_val_score(SVC(), X, y)"
      ]
    },
    {
      "cell_type": "markdown",
      "metadata": {
        "id": "0zYfKMRgOvHe"
      },
      "source": [
        "Nuestro clasificador tienen un 90% de acierto siempre. ¿Es bueno o malo? Ten en cuenta que el 90% de los dígitos no son un 3. Vamos a ver que tal funciona un clasificador simple, que siempre predice la clase más frecuenta (ZeroR):"
      ]
    },
    {
      "cell_type": "code",
      "execution_count": 9,
      "metadata": {
        "colab": {
          "base_uri": "https://localhost:8080/"
        },
        "id": "d_bqk62pOvHe",
        "outputId": "c9ecffe9-7be6-44d0-d379-ce499bf160f2"
      },
      "outputs": [
        {
          "output_type": "execute_result",
          "data": {
            "text/plain": [
              "array([0.9, 0.9, 0.9, 0.9, 0.9])"
            ]
          },
          "metadata": {},
          "execution_count": 9
        }
      ],
      "source": [
        "from sklearn.dummy import DummyClassifier\n",
        "cross_val_score(DummyClassifier(strategy=\"most_frequent\"), X, y)"
      ]
    },
    {
      "cell_type": "markdown",
      "metadata": {
        "id": "Gcl3eFSqOvHe"
      },
      "source": [
        "También un 90%, como esperábamos. Por tanto, podemos pensar que el clasificador SVC no es demasiado bueno, ya que funciona igual que una estrategia que ni si quiera mira los datos de entrada. De todas formas, esto sería sacar conclusiones muy rápido ya que, en general, el accuracy no es una buena medida de rendimiento para bases de datos no balanceadas."
      ]
    },
    {
      "cell_type": "code",
      "execution_count": 10,
      "metadata": {
        "colab": {
          "base_uri": "https://localhost:8080/"
        },
        "id": "Sb6nFSX6OvHe",
        "outputId": "9c743dea-950d-4039-e3c9-14b90890a0fc"
      },
      "outputs": [
        {
          "output_type": "execute_result",
          "data": {
            "text/plain": [
              "array([0.9, 0.1])"
            ]
          },
          "metadata": {},
          "execution_count": 10
        }
      ],
      "source": [
        "np.bincount(y) / y.shape[0]"
      ]
    },
    {
      "cell_type": "markdown",
      "metadata": {
        "id": "OOI8hi6ZOvHe"
      },
      "source": [
        "Curvas ROC\n",
        "=======\n",
        "\n",
        "Una medida mucho mejor se puede obtener utilizando las llamadas curvas de operación características (ROC, *Receiver operating characteristics*). Una curva ROC trabaja con las medidas de incertidumbre de un clasificador, por ejemplo la función de decisión de un ``SVC``. En lugar de utilizar el cero como umbral para distinguir ejemplos negativos de ejemplos positivos, la curva ROC considera todos los posibles umbrales y almacena el ratio de ejemplos de la clase positiva que se predicen correctamente (TPR) y el ratio de fallos para la clase negativa (FPR).\n",
        "\n",
        "El siguiente gráfico compara la curva ROC de tres configuraciones distintas de nuestro clasificador para la tarea \"tres vs el resto\"."
      ]
    },
    {
      "cell_type": "code",
      "execution_count": 11,
      "metadata": {
        "colab": {
          "base_uri": "https://localhost:8080/",
          "height": 449
        },
        "id": "um2xK86UOvHf",
        "outputId": "5cdcd238-ef5d-422a-bae4-840cab7b2ee8"
      },
      "outputs": [
        {
          "output_type": "display_data",
          "data": {
            "text/plain": [
              "<Figure size 640x480 with 1 Axes>"
            ],
            "image/png": "[encoded data removed]"
          },
          "metadata": {}
        }
      ],
      "source": [
        "from sklearn.metrics import roc_curve, roc_auc_score\n",
        "\n",
        "X_train, X_test, y_train, y_test = train_test_split(X, y, random_state=42)\n",
        "\n",
        "for gamma in [.01, .095, 1]:\n",
        "    plt.xlabel(\"False Positive Rate\")\n",
        "    plt.ylabel(\"True Positive Rate (recall)\")\n",
        "    svm = SVC(gamma=gamma).fit(X_train, y_train)\n",
        "    decision_function = svm.decision_function(X_test)\n",
        "    fpr, tpr, _ = roc_curve(y_test, decision_function)\n",
        "    acc = svm.score(X_test, y_test)\n",
        "    auc = roc_auc_score(y_test, svm.decision_function(X_test))\n",
        "    plt.plot(fpr, tpr, label=\"gamma: %.2f (acc:%.2f auc:%.2f)\" % (gamma, acc, auc), linewidth=3)\n",
        "plt.legend(loc=\"best\");"
      ]
    },
    {
      "cell_type": "markdown",
      "metadata": {
        "id": "rljBbDldOvHf"
      },
      "source": [
        "Si el valor de umbral es muy bajo, tendremos muchos falsos positivos y por tanto un TPR muy alto y un FPR muy alto (porque casi todo lo clasificamos como positivo). Si usamos un umbral muy alto, habrá muy pocos falsos positivos (casi todo se predice como negativo), y por tanto el TPR será bajo y el FPR también. Por lo que, en general, la curva va desde arriba a la derecha hasta abajo a la izquierda. Una línea diagonal indica que el rendimiento es aleatorio, mientras que el objetivo ideal sería que la curva se desplace arriba a la izquierda. Esto significa que el clasificador daría siempre valores más altos de la función de decisión a los ejemplos positivos que a los ejemplos negativos.\n",
        "\n",
        "En este sentido, esta curva solo considera el orden asignado a los ejemplos positivos y negativos según la función de decisión, pero no el valor asignado. Como puedes ver a partir de las curvas y de los valores de accuracy, aunque todos los clasificadores tengan el mismo accuracy, uno de ellos tiene una curva ROC perfecta, mientras que otro se comporta igual que un clasificador aleatorio.\n",
        "\n",
        "Para realizar búsqueda en rejilla y validación cruzada, nos gustaría que la evaluación se guiase por un único valor numérico. Una buena forma de hacer esto es considera el área bajo la curva ROC (*area under the curve*, AUC). Podemos usar esto en ``cross_val_score`` especificando ``scoring=\"roc_auc\"``:"
      ]
    },
    {
      "cell_type": "code",
      "execution_count": 12,
      "metadata": {
        "colab": {
          "base_uri": "https://localhost:8080/"
        },
        "id": "nlxibqH0OvHf",
        "outputId": "9f4beac0-5e56-41d1-d1be-5ab13057966b"
      },
      "outputs": [
        {
          "output_type": "execute_result",
          "data": {
            "text/plain": [
              "array([1.  , 1.  , 1.  , 1.  , 0.97])"
            ]
          },
          "metadata": {},
          "execution_count": 12
        }
      ],
      "source": [
        "from sklearn.model_selection import cross_val_score\n",
        "cross_val_score(SVC(), X, y, scoring=\"roc_auc\")"
      ]
    },
    {
      "cell_type": "markdown",
      "metadata": {
        "id": "YXf8XV_5OvHf"
      },
      "source": [
        "Compara el rendimiento con el DummyClassifier:"
      ]
    },
    {
      "cell_type": "code",
      "execution_count": 13,
      "metadata": {
        "colab": {
          "base_uri": "https://localhost:8080/"
        },
        "id": "QWM5Dq6fOvHf",
        "outputId": "797b1e5d-9c13-46df-868f-6ce77f173b58"
      },
      "outputs": [
        {
          "output_type": "stream",
          "name": "stderr",
          "text": [
            "/usr/local/lib/python3.10/dist-packages/sklearn/linear_model/_logistic.py:458: ConvergenceWarning: lbfgs failed to converge (status=1):\n",
            "STOP: TOTAL NO. of ITERATIONS REACHED LIMIT.\n",
            "\n",
            "Increase the number of iterations (max_iter) or scale the data as shown in:\n",
            "    https://scikit-learn.org/stable/modules/preprocessing.html\n",
            "Please also refer to the documentation for alternative solver options:\n",
            "    https://scikit-learn.org/stable/modules/linear_model.html#logistic-regression\n",
            "  n_iter_i = _check_optimize_result(\n",
            "/usr/local/lib/python3.10/dist-packages/sklearn/linear_model/_logistic.py:458: ConvergenceWarning: lbfgs failed to converge (status=1):\n",
            "STOP: TOTAL NO. of ITERATIONS REACHED LIMIT.\n",
            "\n",
            "Increase the number of iterations (max_iter) or scale the data as shown in:\n",
            "    https://scikit-learn.org/stable/modules/preprocessing.html\n",
            "Please also refer to the documentation for alternative solver options:\n",
            "    https://scikit-learn.org/stable/modules/linear_model.html#logistic-regression\n",
            "  n_iter_i = _check_optimize_result(\n",
            "/usr/local/lib/python3.10/dist-packages/sklearn/linear_model/_logistic.py:458: ConvergenceWarning: lbfgs failed to converge (status=1):\n",
            "STOP: TOTAL NO. of ITERATIONS REACHED LIMIT.\n",
            "\n",
            "Increase the number of iterations (max_iter) or scale the data as shown in:\n",
            "    https://scikit-learn.org/stable/modules/preprocessing.html\n",
            "Please also refer to the documentation for alternative solver options:\n",
            "    https://scikit-learn.org/stable/modules/linear_model.html#logistic-regression\n",
            "  n_iter_i = _check_optimize_result(\n",
            "/usr/local/lib/python3.10/dist-packages/sklearn/linear_model/_logistic.py:458: ConvergenceWarning: lbfgs failed to converge (status=1):\n",
            "STOP: TOTAL NO. of ITERATIONS REACHED LIMIT.\n",
            "\n",
            "Increase the number of iterations (max_iter) or scale the data as shown in:\n",
            "    https://scikit-learn.org/stable/modules/preprocessing.html\n",
            "Please also refer to the documentation for alternative solver options:\n",
            "    https://scikit-learn.org/stable/modules/linear_model.html#logistic-regression\n",
            "  n_iter_i = _check_optimize_result(\n",
            "/usr/local/lib/python3.10/dist-packages/sklearn/linear_model/_logistic.py:458: ConvergenceWarning: lbfgs failed to converge (status=1):\n",
            "STOP: TOTAL NO. of ITERATIONS REACHED LIMIT.\n",
            "\n",
            "Increase the number of iterations (max_iter) or scale the data as shown in:\n",
            "    https://scikit-learn.org/stable/modules/preprocessing.html\n",
            "Please also refer to the documentation for alternative solver options:\n",
            "    https://scikit-learn.org/stable/modules/linear_model.html#logistic-regression\n",
            "  n_iter_i = _check_optimize_result(\n"
          ]
        },
        {
          "output_type": "execute_result",
          "data": {
            "text/plain": [
              "array([1.  , 0.97, 1.  , 1.  , 0.96])"
            ]
          },
          "metadata": {},
          "execution_count": 13
        }
      ],
      "source": [
        "from sklearn.linear_model import LogisticRegression\n",
        "cross_val_score(LogisticRegression(), X, y, scoring=\"roc_auc\")"
      ]
    },
    {
      "cell_type": "markdown",
      "metadata": {
        "id": "sejyVRV1OvHf"
      },
      "source": [
        "Funciones de rendimiento por defecto y personalizadas\n",
        "======================================="
      ]
    },
    {
      "cell_type": "markdown",
      "metadata": {
        "id": "60jS2eGMOvHf"
      },
      "source": [
        "Hay muchas medidas de rendimiento, que son útiles para problemas muy distintos. Puedes encontrarlas en el módulo `metrics` y obtenerlas por su nombre con la función `get_scorer()`"
      ]
    },
    {
      "cell_type": "code",
      "execution_count": 14,
      "metadata": {
        "colab": {
          "base_uri": "https://localhost:8080/"
        },
        "id": "wYBbudOYOvHf",
        "outputId": "1ff1dc3c-0209-4bc1-f915-4a9721b41ee7"
      },
      "outputs": [
        {
          "output_type": "stream",
          "name": "stdout",
          "text": [
            "make_scorer(accuracy_score)\n"
          ]
        }
      ],
      "source": [
        "from sklearn.metrics import get_scorer\n",
        "print(get_scorer('accuracy'))"
      ]
    },
    {
      "cell_type": "markdown",
      "metadata": {
        "id": "6feFtVJaOvHf"
      },
      "source": [
        "También es posible escribir tu propia medida de rendimiento. En lugar de una cadena, puedes pasar un nombre de función como argumento ``scoring``, esto es, un objeto con un método ``__call__`` (o lo que es lo mismo, una función). Esa función debe recibir un modelo, un conjunto de características ``X_test`` y un conjutno de etiquetas ``y_test``, y devolver un valor real. Los valores más altos deberían indicar que el modelo es mejor.\n",
        "\n",
        "Para probarlo, vamos a reimplementar la medida estándar de accuracy:"
      ]
    },
    {
      "cell_type": "code",
      "execution_count": 15,
      "metadata": {
        "colab": {
          "base_uri": "https://localhost:8080/"
        },
        "id": "KLq8CheZOvHf",
        "outputId": "28e69e59-4bd3-4761-90ac-3b30f99403a1"
      },
      "outputs": [
        {
          "output_type": "execute_result",
          "data": {
            "text/plain": [
              "array([1.  , 0.96, 1.  , 1.  , 0.96])"
            ]
          },
          "metadata": {},
          "execution_count": 15
        }
      ],
      "source": [
        "def my_accuracy_scoring(est, X, y):\n",
        "    return np.mean(est.predict(X) == y)\n",
        "\n",
        "cross_val_score(SVC(), X, y, scoring=my_accuracy_scoring)"
      ]
    },
    {
      "cell_type": "markdown",
      "metadata": {
        "id": "bP8JmBEvOvHg"
      },
      "source": [
        "<div class=\"alert alert-success\">\n",
        "    <b>EJERCICIO</b>:\n",
        "     <ul>\n",
        "      <li>\n",
        "      En las secciones anteriores, normalmente usábamos el accuracy para evaluar el rendimiento de nuestros clasificadores. Una medida relacionada de la cuál no hemos hablado aún es el accuracy medio por clase (average-per-class accuracy, APCA). Como recordarás, el accuracy se puede definir como:\n",
        "\n",
        "$$ACC = \\frac{TP+TN}{n},$$\n",
        "\n",
        "donde *n* es el número total de ejemplos. Esto puede generalizarse para multiclase como:\n",
        "\n",
        "$$ACC =  \\frac{T}{n},$$\n",
        "\n",
        "donde *T* es el número total de predicciones correctas (diagonal principal).\n",
        "      </li>\n",
        "    </ul>\n",
        "    ![](figures/average-per-class.png)\n",
        "    <li>\n",
        "    Dados los siguientes arrays de etiquetas verdaderas y de etiquetas predichas, ¿puedes implementar una función que utilice la métrica accuracy para conseguir el APCA?\n",
        "    </li>\n",
        "</div>"
      ]
    },
    {
      "cell_type": "code",
      "execution_count": 16,
      "metadata": {
        "colab": {
          "base_uri": "https://localhost:8080/"
        },
        "id": "eCw4x0oVOvHj",
        "outputId": "d3778c2f-0c7c-4917-dbd8-8dfc7d1ca291"
      },
      "outputs": [
        {
          "output_type": "execute_result",
          "data": {
            "text/plain": [
              "array([[1, 2, 0],\n",
              "       [1, 2, 2],\n",
              "       [0, 0, 2]])"
            ]
          },
          "metadata": {},
          "execution_count": 16
        }
      ],
      "source": [
        "y_true = np.array([0, 0, 0, 1, 1, 1, 1, 1, 2, 2])\n",
        "y_pred = np.array([0, 1, 1, 0, 1, 1, 2, 2, 2, 2])\n",
        "\n",
        "confusion_matrix(y_true, y_pred)"
      ]
    },
    {
      "cell_type": "code",
      "execution_count": 16,
      "metadata": {
        "id": "x4OEOBBuOvHj"
      },
      "outputs": [],
      "source": []
    }
  ],
  "metadata": {
    "anaconda-cloud": {},
    "kernelspec": {
      "display_name": "Python 3.9.4 64-bit ('venv': venv)",
      "language": "python",
      "name": "python394jvsc74a57bd0aa41ab814fffd34efff3c20848600797b001dae600799b4bbaa134a787d72b57"
    },
    "language_info": {
      "codemirror_mode": {
        "name": "ipython",
        "version": 3
      },
      "file_extension": ".py",
      "mimetype": "text/x-python",
      "name": "python",
      "nbconvert_exporter": "python",
      "pygments_lexer": "ipython3",
      "version": "3.9.4"
    },
    "colab": {
      "provenance": []
    }
  },
  "nbformat": 4,
  "nbformat_minor": 0
}