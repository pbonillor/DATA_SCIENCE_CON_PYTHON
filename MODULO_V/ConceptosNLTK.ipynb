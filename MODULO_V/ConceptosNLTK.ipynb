{
  "cells": [
    {
      "cell_type": "markdown",
      "metadata": {
        "id": "8Sc2VmNkzrFI"
      },
      "source": [
        "# 02 - Conceptos para el Procesamiento del Lenguaje Natural (NLP)\n",
        "\n",
        "\n",
        "* En este Notebook vamos a enumerar y definir algunos de los conceptos más importantes que se dan en el Procesamiento del Lenguaje Natural y a ver algunos ejemplos en código.\n",
        "\n",
        "\n",
        "* Mostremos a continuación la definición de estos conceptos:\n",
        "\n",
        "\n",
        "### 1.- Corpus:\n",
        "\n",
        "* Un ***Corpus*** (en Latín \"cuerpo\") en el NLP se refiere a una colección de textos como pueda ser un conjunto de artículos periodísticos, libros, críticas, tweets, etc.\n",
        "\n",
        "### 2.- Bag of Words (BoW):\n",
        "\n",
        "* ***BoW*** (Bolsa de palabras) es un modelo que se utiliza para simplificar el contenido de un documento (o conjunto de documentos) omitiendo la gramática y el orden de las palabras, centrándose solo en el número de ocurrencias de palabras dentro del texto.\n",
        "\n",
        "### 3.- Normalización:\n",
        "\n",
        "* La ***normalización*** es una tarea que tiene como objetivo poner todo el texto en igualdad de condiciones:\n",
        "\n",
        "    - Convertir todo el texto en mayúscula o minúsculas\n",
        "    - Eliminar, puntos, comas, comillas, etc.\n",
        "    - Convertir los números a su equivalente a palabras\n",
        "    - Quitar palabras que no aportan significado al texto (Stop-words)\n",
        "    - Etc.\n",
        "\n",
        "### 4.- Tokenización:\n",
        "\n",
        "* Es una tarea que divide las cadenas de texto del documento en piezas más pequeñas o tokens. En la fase de tokenización los documentos se dividen en oraciones y estas se \"tokenizan\" en palabras. Aunque la tokenización es el proceso de dividir grandes cadenas de texto en cadenas más pequeñas, se suele diferenciar la:\n",
        "<span></span><br><br>\n",
        "    - ***Segmentación***: Tarea de dividir grandes cadenas de texto en piezas más pequeñas como oraciones o párrafos.\n",
        "<span></span><br><br>\n",
        "    - ***Tokenización***: Tarea de dividir grandes cadenas de texto solo y exclusivamente en palabras.\n",
        "\n",
        "\n",
        "### 5.- Stemming:\n",
        "\n",
        "* ***Stemming*** es el proceso de eliminar los afijos (sufijos, prefijos, infijos, circunflejos) de una palabra para obtener un tallo de palabra.\n",
        "<span></span><br><br>\n",
        "     + *Ejemplo*: Conduciendo -> conducir\n",
        "\n",
        "\n",
        "### 6.- Lematización:\n",
        "\n",
        "\n",
        "* La ***lematización*** es el proceso lingüístico que sustituye una palabra con forma flexionada (plurales, femeninos, verbos conjugados, etc.) por su lema; es decir, por una palabra válida en el idioma.\n",
        "\n",
        "\n",
        "* Si lo queremos definir de otra manera es sustituir una palabra con forma flexionada por la palabra que encontraríamos en el diccionario.\n",
        "<span></span><br><br>\n",
        "    + *Ejemplo*: Coches -> Coche; Guapas -> Guapo\n",
        "\n",
        "\n",
        "### 7.- Stop Words:\n",
        "\n",
        "\n",
        "* Son palabras que no aportan nada al significado de las frases como las preposiciones, determinantes, etc.\n",
        "\n",
        "\n",
        "### 8.- Parts-of-speech (POS) Tagging:\n",
        "\n",
        "\n",
        "* Consiste en asignar una etiqueta de categoría a las partes tokenizadas de una oración. El etiquetado POS más popular sería identificar palabras como sustantivos, verbos, adjetivos, etc.\n",
        "\n",
        "\n",
        "* En la lengua castellana nos podemos encontrar 9 categorías de palabras:\n",
        "\n",
        "    - Artículo o determinante\n",
        "    - Sustantivo o nombre\n",
        "    - Pronombre\n",
        "    - Verbo\n",
        "    - Adjetivo\n",
        "    - Adverbio\n",
        "    - Preposición\n",
        "    - Conjunción\n",
        "    - Interjección\n",
        "\n",
        "\n",
        "### 9.- n-grammas:\n",
        "\n",
        "\n",
        "* Los ***n-gramas*** son otro modelo de representación para simplificar los contenidos de selección de texto.\n",
        "\n",
        "\n",
        "* A diferencia de la representación sin orden de una bolsa de palabras (bag of words), el modelado de n-gramas está interesado en preservar secuencias contiguas de N elementos de la selección de texto.\n",
        "\n",
        "<hr>\n",
        "\n",
        "# Ejemplos con NLTK"
      ]
    },
    {
      "cell_type": "markdown",
      "metadata": {
        "id": "zBzcYqMezrFJ"
      },
      "source": [
        "## 4.- Tokenización\n",
        "\n",
        "* Divide las cadenas de texto del documento en piezas más pequeñas o tokens."
      ]
    },
    {
      "cell_type": "code",
      "source": [
        "import nltk\n",
        "from nltk import word_tokenize\n",
        "nltk.download(\"all\")"
      ],
      "metadata": {
        "colab": {
          "base_uri": "https://localhost:8080/"
        },
        "id": "wCbvTBJH0peU",
        "outputId": "b70305b9-97c8-4045-a9e8-cd5f8969b5a3"
      },
      "execution_count": 3,
      "outputs": [
        {
          "output_type": "stream",
          "name": "stderr",
          "text": [
            "[nltk_data] Downloading collection 'all'\n",
            "[nltk_data]    | \n",
            "[nltk_data]    | Downloading package abc to /root/nltk_data...\n",
            "[nltk_data]    |   Package abc is already up-to-date!\n",
            "[nltk_data]    | Downloading package alpino to /root/nltk_data...\n",
            "[nltk_data]    |   Package alpino is already up-to-date!\n",
            "[nltk_data]    | Downloading package averaged_perceptron_tagger to\n",
            "[nltk_data]    |     /root/nltk_data...\n",
            "[nltk_data]    |   Package averaged_perceptron_tagger is already up-\n",
            "[nltk_data]    |       to-date!\n",
            "[nltk_data]    | Downloading package averaged_perceptron_tagger_ru to\n",
            "[nltk_data]    |     /root/nltk_data...\n",
            "[nltk_data]    |   Package averaged_perceptron_tagger_ru is already\n",
            "[nltk_data]    |       up-to-date!\n",
            "[nltk_data]    | Downloading package basque_grammars to\n",
            "[nltk_data]    |     /root/nltk_data...\n",
            "[nltk_data]    |   Package basque_grammars is already up-to-date!\n",
            "[nltk_data]    | Downloading package bcp47 to /root/nltk_data...\n",
            "[nltk_data]    |   Package bcp47 is already up-to-date!\n",
            "[nltk_data]    | Downloading package biocreative_ppi to\n",
            "[nltk_data]    |     /root/nltk_data...\n",
            "[nltk_data]    |   Package biocreative_ppi is already up-to-date!\n",
            "[nltk_data]    | Downloading package bllip_wsj_no_aux to\n",
            "[nltk_data]    |     /root/nltk_data...\n",
            "[nltk_data]    |   Package bllip_wsj_no_aux is already up-to-date!\n",
            "[nltk_data]    | Downloading package book_grammars to\n",
            "[nltk_data]    |     /root/nltk_data...\n",
            "[nltk_data]    |   Package book_grammars is already up-to-date!\n",
            "[nltk_data]    | Downloading package brown to /root/nltk_data...\n",
            "[nltk_data]    |   Package brown is already up-to-date!\n",
            "[nltk_data]    | Downloading package brown_tei to /root/nltk_data...\n",
            "[nltk_data]    |   Package brown_tei is already up-to-date!\n",
            "[nltk_data]    | Downloading package cess_cat to /root/nltk_data...\n",
            "[nltk_data]    |   Package cess_cat is already up-to-date!\n",
            "[nltk_data]    | Downloading package cess_esp to /root/nltk_data...\n",
            "[nltk_data]    |   Package cess_esp is already up-to-date!\n",
            "[nltk_data]    | Downloading package chat80 to /root/nltk_data...\n",
            "[nltk_data]    |   Package chat80 is already up-to-date!\n",
            "[nltk_data]    | Downloading package city_database to\n",
            "[nltk_data]    |     /root/nltk_data...\n",
            "[nltk_data]    |   Package city_database is already up-to-date!\n",
            "[nltk_data]    | Downloading package cmudict to /root/nltk_data...\n",
            "[nltk_data]    |   Package cmudict is already up-to-date!\n",
            "[nltk_data]    | Downloading package comparative_sentences to\n",
            "[nltk_data]    |     /root/nltk_data...\n",
            "[nltk_data]    |   Package comparative_sentences is already up-to-\n",
            "[nltk_data]    |       date!\n",
            "[nltk_data]    | Downloading package comtrans to /root/nltk_data...\n",
            "[nltk_data]    |   Package comtrans is already up-to-date!\n",
            "[nltk_data]    | Downloading package conll2000 to /root/nltk_data...\n",
            "[nltk_data]    |   Package conll2000 is already up-to-date!\n",
            "[nltk_data]    | Downloading package conll2002 to /root/nltk_data...\n",
            "[nltk_data]    |   Package conll2002 is already up-to-date!\n",
            "[nltk_data]    | Downloading package conll2007 to /root/nltk_data...\n",
            "[nltk_data]    |   Package conll2007 is already up-to-date!\n",
            "[nltk_data]    | Downloading package crubadan to /root/nltk_data...\n",
            "[nltk_data]    |   Package crubadan is already up-to-date!\n",
            "[nltk_data]    | Downloading package dependency_treebank to\n",
            "[nltk_data]    |     /root/nltk_data...\n",
            "[nltk_data]    |   Package dependency_treebank is already up-to-date!\n",
            "[nltk_data]    | Downloading package dolch to /root/nltk_data...\n",
            "[nltk_data]    |   Package dolch is already up-to-date!\n",
            "[nltk_data]    | Downloading package europarl_raw to\n",
            "[nltk_data]    |     /root/nltk_data...\n",
            "[nltk_data]    |   Package europarl_raw is already up-to-date!\n",
            "[nltk_data]    | Downloading package extended_omw to\n",
            "[nltk_data]    |     /root/nltk_data...\n",
            "[nltk_data]    |   Package extended_omw is already up-to-date!\n",
            "[nltk_data]    | Downloading package floresta to /root/nltk_data...\n",
            "[nltk_data]    |   Package floresta is already up-to-date!\n",
            "[nltk_data]    | Downloading package framenet_v15 to\n",
            "[nltk_data]    |     /root/nltk_data...\n",
            "[nltk_data]    |   Package framenet_v15 is already up-to-date!\n",
            "[nltk_data]    | Downloading package framenet_v17 to\n",
            "[nltk_data]    |     /root/nltk_data...\n",
            "[nltk_data]    |   Package framenet_v17 is already up-to-date!\n",
            "[nltk_data]    | Downloading package gazetteers to /root/nltk_data...\n",
            "[nltk_data]    |   Package gazetteers is already up-to-date!\n",
            "[nltk_data]    | Downloading package genesis to /root/nltk_data...\n",
            "[nltk_data]    |   Package genesis is already up-to-date!\n",
            "[nltk_data]    | Downloading package gutenberg to /root/nltk_data...\n",
            "[nltk_data]    |   Package gutenberg is already up-to-date!\n",
            "[nltk_data]    | Downloading package ieer to /root/nltk_data...\n",
            "[nltk_data]    |   Package ieer is already up-to-date!\n",
            "[nltk_data]    | Downloading package inaugural to /root/nltk_data...\n",
            "[nltk_data]    |   Package inaugural is already up-to-date!\n",
            "[nltk_data]    | Downloading package indian to /root/nltk_data...\n",
            "[nltk_data]    |   Package indian is already up-to-date!\n",
            "[nltk_data]    | Downloading package jeita to /root/nltk_data...\n",
            "[nltk_data]    |   Package jeita is already up-to-date!\n",
            "[nltk_data]    | Downloading package kimmo to /root/nltk_data...\n",
            "[nltk_data]    |   Package kimmo is already up-to-date!\n",
            "[nltk_data]    | Downloading package knbc to /root/nltk_data...\n",
            "[nltk_data]    |   Package knbc is already up-to-date!\n",
            "[nltk_data]    | Downloading package large_grammars to\n",
            "[nltk_data]    |     /root/nltk_data...\n",
            "[nltk_data]    |   Package large_grammars is already up-to-date!\n",
            "[nltk_data]    | Downloading package lin_thesaurus to\n",
            "[nltk_data]    |     /root/nltk_data...\n",
            "[nltk_data]    |   Package lin_thesaurus is already up-to-date!\n",
            "[nltk_data]    | Downloading package mac_morpho to /root/nltk_data...\n",
            "[nltk_data]    |   Package mac_morpho is already up-to-date!\n",
            "[nltk_data]    | Downloading package machado to /root/nltk_data...\n",
            "[nltk_data]    |   Package machado is already up-to-date!\n",
            "[nltk_data]    | Downloading package masc_tagged to /root/nltk_data...\n",
            "[nltk_data]    |   Package masc_tagged is already up-to-date!\n",
            "[nltk_data]    | Downloading package maxent_ne_chunker to\n",
            "[nltk_data]    |     /root/nltk_data...\n",
            "[nltk_data]    |   Package maxent_ne_chunker is already up-to-date!\n",
            "[nltk_data]    | Downloading package maxent_treebank_pos_tagger to\n",
            "[nltk_data]    |     /root/nltk_data...\n",
            "[nltk_data]    |   Package maxent_treebank_pos_tagger is already up-\n",
            "[nltk_data]    |       to-date!\n",
            "[nltk_data]    | Downloading package moses_sample to\n",
            "[nltk_data]    |     /root/nltk_data...\n",
            "[nltk_data]    |   Package moses_sample is already up-to-date!\n",
            "[nltk_data]    | Downloading package movie_reviews to\n",
            "[nltk_data]    |     /root/nltk_data...\n",
            "[nltk_data]    |   Package movie_reviews is already up-to-date!\n",
            "[nltk_data]    | Downloading package mte_teip5 to /root/nltk_data...\n",
            "[nltk_data]    |   Package mte_teip5 is already up-to-date!\n",
            "[nltk_data]    | Downloading package mwa_ppdb to /root/nltk_data...\n",
            "[nltk_data]    |   Package mwa_ppdb is already up-to-date!\n",
            "[nltk_data]    | Downloading package names to /root/nltk_data...\n",
            "[nltk_data]    |   Package names is already up-to-date!\n",
            "[nltk_data]    | Downloading package nombank.1.0 to /root/nltk_data...\n",
            "[nltk_data]    |   Package nombank.1.0 is already up-to-date!\n",
            "[nltk_data]    | Downloading package nonbreaking_prefixes to\n",
            "[nltk_data]    |     /root/nltk_data...\n",
            "[nltk_data]    |   Package nonbreaking_prefixes is already up-to-date!\n",
            "[nltk_data]    | Downloading package nps_chat to /root/nltk_data...\n",
            "[nltk_data]    |   Package nps_chat is already up-to-date!\n",
            "[nltk_data]    | Downloading package omw to /root/nltk_data...\n",
            "[nltk_data]    |   Package omw is already up-to-date!\n",
            "[nltk_data]    | Downloading package omw-1.4 to /root/nltk_data...\n",
            "[nltk_data]    |   Package omw-1.4 is already up-to-date!\n",
            "[nltk_data]    | Downloading package opinion_lexicon to\n",
            "[nltk_data]    |     /root/nltk_data...\n",
            "[nltk_data]    |   Package opinion_lexicon is already up-to-date!\n",
            "[nltk_data]    | Downloading package panlex_swadesh to\n",
            "[nltk_data]    |     /root/nltk_data...\n",
            "[nltk_data]    |   Package panlex_swadesh is already up-to-date!\n",
            "[nltk_data]    | Downloading package paradigms to /root/nltk_data...\n",
            "[nltk_data]    |   Package paradigms is already up-to-date!\n",
            "[nltk_data]    | Downloading package pe08 to /root/nltk_data...\n",
            "[nltk_data]    |   Package pe08 is already up-to-date!\n",
            "[nltk_data]    | Downloading package perluniprops to\n",
            "[nltk_data]    |     /root/nltk_data...\n",
            "[nltk_data]    |   Package perluniprops is already up-to-date!\n",
            "[nltk_data]    | Downloading package pil to /root/nltk_data...\n",
            "[nltk_data]    |   Package pil is already up-to-date!\n",
            "[nltk_data]    | Downloading package pl196x to /root/nltk_data...\n",
            "[nltk_data]    |   Package pl196x is already up-to-date!\n",
            "[nltk_data]    | Downloading package porter_test to /root/nltk_data...\n",
            "[nltk_data]    |   Package porter_test is already up-to-date!\n",
            "[nltk_data]    | Downloading package ppattach to /root/nltk_data...\n",
            "[nltk_data]    |   Package ppattach is already up-to-date!\n",
            "[nltk_data]    | Downloading package problem_reports to\n",
            "[nltk_data]    |     /root/nltk_data...\n",
            "[nltk_data]    |   Package problem_reports is already up-to-date!\n",
            "[nltk_data]    | Downloading package product_reviews_1 to\n",
            "[nltk_data]    |     /root/nltk_data...\n",
            "[nltk_data]    |   Package product_reviews_1 is already up-to-date!\n",
            "[nltk_data]    | Downloading package product_reviews_2 to\n",
            "[nltk_data]    |     /root/nltk_data...\n",
            "[nltk_data]    |   Package product_reviews_2 is already up-to-date!\n",
            "[nltk_data]    | Downloading package propbank to /root/nltk_data...\n",
            "[nltk_data]    |   Package propbank is already up-to-date!\n",
            "[nltk_data]    | Downloading package pros_cons to /root/nltk_data...\n",
            "[nltk_data]    |   Package pros_cons is already up-to-date!\n",
            "[nltk_data]    | Downloading package ptb to /root/nltk_data...\n",
            "[nltk_data]    |   Package ptb is already up-to-date!\n",
            "[nltk_data]    | Downloading package punkt to /root/nltk_data...\n",
            "[nltk_data]    |   Package punkt is already up-to-date!\n",
            "[nltk_data]    | Downloading package qc to /root/nltk_data...\n",
            "[nltk_data]    |   Package qc is already up-to-date!\n",
            "[nltk_data]    | Downloading package reuters to /root/nltk_data...\n",
            "[nltk_data]    |   Package reuters is already up-to-date!\n",
            "[nltk_data]    | Downloading package rslp to /root/nltk_data...\n",
            "[nltk_data]    |   Package rslp is already up-to-date!\n",
            "[nltk_data]    | Downloading package rte to /root/nltk_data...\n",
            "[nltk_data]    |   Package rte is already up-to-date!\n",
            "[nltk_data]    | Downloading package sample_grammars to\n",
            "[nltk_data]    |     /root/nltk_data...\n",
            "[nltk_data]    |   Package sample_grammars is already up-to-date!\n",
            "[nltk_data]    | Downloading package semcor to /root/nltk_data...\n",
            "[nltk_data]    |   Package semcor is already up-to-date!\n",
            "[nltk_data]    | Downloading package senseval to /root/nltk_data...\n",
            "[nltk_data]    |   Package senseval is already up-to-date!\n",
            "[nltk_data]    | Downloading package sentence_polarity to\n",
            "[nltk_data]    |     /root/nltk_data...\n",
            "[nltk_data]    |   Package sentence_polarity is already up-to-date!\n",
            "[nltk_data]    | Downloading package sentiwordnet to\n",
            "[nltk_data]    |     /root/nltk_data...\n",
            "[nltk_data]    |   Package sentiwordnet is already up-to-date!\n",
            "[nltk_data]    | Downloading package shakespeare to /root/nltk_data...\n",
            "[nltk_data]    |   Package shakespeare is already up-to-date!\n",
            "[nltk_data]    | Downloading package sinica_treebank to\n",
            "[nltk_data]    |     /root/nltk_data...\n",
            "[nltk_data]    |   Package sinica_treebank is already up-to-date!\n",
            "[nltk_data]    | Downloading package smultron to /root/nltk_data...\n",
            "[nltk_data]    |   Package smultron is already up-to-date!\n",
            "[nltk_data]    | Downloading package snowball_data to\n",
            "[nltk_data]    |     /root/nltk_data...\n",
            "[nltk_data]    |   Package snowball_data is already up-to-date!\n",
            "[nltk_data]    | Downloading package spanish_grammars to\n",
            "[nltk_data]    |     /root/nltk_data...\n",
            "[nltk_data]    |   Package spanish_grammars is already up-to-date!\n",
            "[nltk_data]    | Downloading package state_union to /root/nltk_data...\n",
            "[nltk_data]    |   Package state_union is already up-to-date!\n",
            "[nltk_data]    | Downloading package stopwords to /root/nltk_data...\n",
            "[nltk_data]    |   Package stopwords is already up-to-date!\n",
            "[nltk_data]    | Downloading package subjectivity to\n",
            "[nltk_data]    |     /root/nltk_data...\n",
            "[nltk_data]    |   Package subjectivity is already up-to-date!\n",
            "[nltk_data]    | Downloading package swadesh to /root/nltk_data...\n",
            "[nltk_data]    |   Package swadesh is already up-to-date!\n",
            "[nltk_data]    | Downloading package switchboard to /root/nltk_data...\n",
            "[nltk_data]    |   Package switchboard is already up-to-date!\n",
            "[nltk_data]    | Downloading package tagsets to /root/nltk_data...\n",
            "[nltk_data]    |   Package tagsets is already up-to-date!\n",
            "[nltk_data]    | Downloading package timit to /root/nltk_data...\n",
            "[nltk_data]    |   Package timit is already up-to-date!\n",
            "[nltk_data]    | Downloading package toolbox to /root/nltk_data...\n",
            "[nltk_data]    |   Package toolbox is already up-to-date!\n",
            "[nltk_data]    | Downloading package treebank to /root/nltk_data...\n",
            "[nltk_data]    |   Package treebank is already up-to-date!\n",
            "[nltk_data]    | Downloading package twitter_samples to\n",
            "[nltk_data]    |     /root/nltk_data...\n",
            "[nltk_data]    |   Package twitter_samples is already up-to-date!\n",
            "[nltk_data]    | Downloading package udhr to /root/nltk_data...\n",
            "[nltk_data]    |   Package udhr is already up-to-date!\n",
            "[nltk_data]    | Downloading package udhr2 to /root/nltk_data...\n",
            "[nltk_data]    |   Package udhr2 is already up-to-date!\n",
            "[nltk_data]    | Downloading package unicode_samples to\n",
            "[nltk_data]    |     /root/nltk_data...\n",
            "[nltk_data]    |   Package unicode_samples is already up-to-date!\n",
            "[nltk_data]    | Downloading package universal_tagset to\n",
            "[nltk_data]    |     /root/nltk_data...\n",
            "[nltk_data]    |   Package universal_tagset is already up-to-date!\n",
            "[nltk_data]    | Downloading package universal_treebanks_v20 to\n",
            "[nltk_data]    |     /root/nltk_data...\n",
            "[nltk_data]    |   Package universal_treebanks_v20 is already up-to-\n",
            "[nltk_data]    |       date!\n",
            "[nltk_data]    | Downloading package vader_lexicon to\n",
            "[nltk_data]    |     /root/nltk_data...\n",
            "[nltk_data]    |   Package vader_lexicon is already up-to-date!\n",
            "[nltk_data]    | Downloading package verbnet to /root/nltk_data...\n",
            "[nltk_data]    |   Package verbnet is already up-to-date!\n",
            "[nltk_data]    | Downloading package verbnet3 to /root/nltk_data...\n",
            "[nltk_data]    |   Package verbnet3 is already up-to-date!\n",
            "[nltk_data]    | Downloading package webtext to /root/nltk_data...\n",
            "[nltk_data]    |   Package webtext is already up-to-date!\n",
            "[nltk_data]    | Downloading package wmt15_eval to /root/nltk_data...\n",
            "[nltk_data]    |   Package wmt15_eval is already up-to-date!\n",
            "[nltk_data]    | Downloading package word2vec_sample to\n",
            "[nltk_data]    |     /root/nltk_data...\n",
            "[nltk_data]    |   Package word2vec_sample is already up-to-date!\n",
            "[nltk_data]    | Downloading package wordnet to /root/nltk_data...\n",
            "[nltk_data]    |   Package wordnet is already up-to-date!\n",
            "[nltk_data]    | Downloading package wordnet2021 to /root/nltk_data...\n",
            "[nltk_data]    |   Package wordnet2021 is already up-to-date!\n",
            "[nltk_data]    | Downloading package wordnet2022 to /root/nltk_data...\n",
            "[nltk_data]    |   Package wordnet2022 is already up-to-date!\n",
            "[nltk_data]    | Downloading package wordnet31 to /root/nltk_data...\n",
            "[nltk_data]    |   Package wordnet31 is already up-to-date!\n",
            "[nltk_data]    | Downloading package wordnet_ic to /root/nltk_data...\n",
            "[nltk_data]    |   Package wordnet_ic is already up-to-date!\n",
            "[nltk_data]    | Downloading package words to /root/nltk_data...\n",
            "[nltk_data]    |   Package words is already up-to-date!\n",
            "[nltk_data]    | Downloading package ycoe to /root/nltk_data...\n",
            "[nltk_data]    |   Package ycoe is already up-to-date!\n",
            "[nltk_data]    | \n",
            "[nltk_data]  Done downloading collection all\n"
          ]
        },
        {
          "output_type": "execute_result",
          "data": {
            "text/plain": [
              "True"
            ]
          },
          "metadata": {},
          "execution_count": 3
        }
      ]
    },
    {
      "cell_type": "code",
      "execution_count": 4,
      "metadata": {
        "colab": {
          "base_uri": "https://localhost:8080/"
        },
        "id": "A0oInE2dzrFK",
        "outputId": "ae99c948-6ebc-4217-8008-ffb04a9b04cd"
      },
      "outputs": [
        {
          "output_type": "stream",
          "name": "stdout",
          "text": [
            "['Un', 'radar', 'multa', 'a', 'Mariano', 'Rajoy', 'por', 'caminar', 'demasiado', 'rapido']\n"
          ]
        }
      ],
      "source": [
        "doc = \"Un radar multa a Mariano Rajoy por caminar demasiado rapido\"\n",
        "words = nltk.word_tokenize(doc)\n",
        "print (words)"
      ]
    },
    {
      "cell_type": "markdown",
      "metadata": {
        "id": "5K4QCkOQzrFL"
      },
      "source": [
        "## 5.- Stemming\n",
        "\n",
        "* Proceso de eliminar los afijos\n",
        "\n",
        "\n",
        "* Para realizar el Stemming con NLTK tenemos que seleccionar el \"Stemmer\" adecuado dependiendo del idioma.\n",
        "\n",
        "\n",
        "* En NLTK existen dos \"Stemmers\" que son los siguientes:\n",
        "    * PorterStemmer\n",
        "    * SnowballStemmer\n",
        "\n",
        "\n",
        "* Para más información sobre estos ver el siguiente enlace: http://www.nltk.org/howto/stem.html\n",
        "<span></span><br><br>\n",
        "     + *Ejemplo en Inglés* con el *PorterStemmer*"
      ]
    },
    {
      "cell_type": "code",
      "execution_count": 5,
      "metadata": {
        "colab": {
          "base_uri": "https://localhost:8080/"
        },
        "id": "LVqES-0uzrFL",
        "outputId": "629aa35e-cf42-4c54-fc9b-7386f3890377"
      },
      "outputs": [
        {
          "output_type": "stream",
          "name": "stdout",
          "text": [
            "run\n",
            "minimum\n"
          ]
        }
      ],
      "source": [
        "from nltk.stem import PorterStemmer\n",
        "stm = PorterStemmer()\n",
        "print (stm.stem('running'))\n",
        "print (stm.stem('minimum'))"
      ]
    },
    {
      "cell_type": "markdown",
      "metadata": {
        "id": "12HOyDvzzrFM"
      },
      "source": [
        "* Los Stemmers de NLTK para idiomas distintos al Ingles son relativamente malos ya que NLTK esta pensado para la lengua inglesa.\n",
        "    + *Ejemplo en Español* con el *SnowballStemmer*"
      ]
    },
    {
      "cell_type": "code",
      "execution_count": 6,
      "metadata": {
        "colab": {
          "base_uri": "https://localhost:8080/"
        },
        "id": "tof_uflTzrFM",
        "outputId": "f38114a1-f1da-4efe-8492-a197d33251c3"
      },
      "outputs": [
        {
          "output_type": "stream",
          "name": "stdout",
          "text": [
            "corr\n",
            "minim\n"
          ]
        }
      ],
      "source": [
        "from nltk.stem import SnowballStemmer\n",
        "stm = SnowballStemmer('spanish') # Hay que indicarle explicitamente el idioma\n",
        "print (stm.stem('corriendo'))\n",
        "print (stm.stem('mínimo'))"
      ]
    },
    {
      "cell_type": "markdown",
      "metadata": {
        "id": "taTwubFYzrFM"
      },
      "source": [
        "## 6.- Lematización\n",
        "\n",
        "\n",
        "* Proceso lingüístico que sustituye una palabra con forma flexionada (plurales, femeninos, verbos conjugados, etc.) por su lema; es decir, por una palabra válida en el idioma.\n",
        "\n",
        "\n",
        "* La Lematización que hace NLTK solo es buena para la lengua inglesa."
      ]
    },
    {
      "cell_type": "code",
      "execution_count": 7,
      "metadata": {
        "colab": {
          "base_uri": "https://localhost:8080/"
        },
        "id": "7elJgC-RzrFM",
        "outputId": "59c9e577-b7d3-45fd-8f15-91e4ce9ef011"
      },
      "outputs": [
        {
          "output_type": "stream",
          "name": "stdout",
          "text": [
            "dog\n",
            "perros\n"
          ]
        }
      ],
      "source": [
        "from nltk.stem import WordNetLemmatizer\n",
        "lemm = WordNetLemmatizer()\n",
        "print (lemm.lemmatize('dogs'))\n",
        "print (lemm.lemmatize('perros'))"
      ]
    },
    {
      "cell_type": "markdown",
      "metadata": {
        "id": "iZplROTIzrFM"
      },
      "source": [
        "## 7.- Stop words\n",
        "\n",
        "\n",
        "* Son las palabras que no aportan nada al significado de la frase.\n",
        "\n",
        "\n",
        "* NLTK tiene para una serie de idiomas un listado de Stop Words.\n",
        "\n",
        "\n",
        "* Para el Español dispone de un listado de stop words:"
      ]
    },
    {
      "cell_type": "code",
      "execution_count": 8,
      "metadata": {
        "colab": {
          "base_uri": "https://localhost:8080/"
        },
        "id": "LXuOyIGgzrFM",
        "outputId": "5ac592ad-e929-4069-a925-ae3432ec1b64"
      },
      "outputs": [
        {
          "output_type": "stream",
          "name": "stdout",
          "text": [
            "{'habré', 'el', 'es', 'tengamos', 'estados', 'míos', 'fueses', 'eso', 'hay', 'durante', 'fueran', 'estuvieron', 'fuera', 'seáis', 'sí', 'habréis', 'la', 'tuyos', 'teniendo', 'tened', 'habría', 'habido', 'he', 'ante', 'serían', 'estuviesen', 'habrán', 'estemos', 'estuvieses', 'teníamos', 'todo', 'estuviésemos', 'sois', 'tuviese', 'tendrán', 'estad', 'vosotros', 'yo', 'estaré', 'en', 'poco', 'estaríamos', 'tengan', 'otra', 'habíamos', 'hayáis', 'nosotras', 'sentida', 'suyo', 'seamos', 'erais', 'tuvieron', 'tenida', 'él', 'eras', 'fuésemos', 'sintiendo', 'habrías', 'sean', 'cuando', 'nada', 'estuviéramos', 'quien', 'pero', 'habéis', 'tuvierais', 'mías', 'tenéis', 'tendrá', 'mía', 'estás', 'tuvieran', 'estará', 'serías', 'estoy', 'tuviera', 'tendrían', 'habrás', 'entre', 'tuviéramos', 'nuestro', 'fue', 'su', 'tenidas', 'tenidos', 'fueron', 'hube', 'uno', 'estaba', 'estuviste', 'tendría', 'estuvieran', 'un', 'hayan', 'estábamos', 'hubisteis', 'que', 'seríamos', 'seremos', 'esto', 'vuestros', 'mucho', 'sería', 'nosotros', 'lo', 'tuviésemos', 'estos', 'tuviste', 'estuvieras', 'para', 'tuviesen', 'las', 'tendremos', 'esas', 'tuvimos', 'hubieron', 'tenían', 'tuvieses', 'tengo', 'les', 'tendríamos', 'y', 'soy', 'le', 'nos', 'fueseis', 'de', 'son', 'ella', 'estéis', 'fuesen', 'tus', 'estarías', 'seas', 'haya', 'estaremos', 'tendrías', 'seré', 'algunos', 'habíais', 'estar', 'habremos', 'han', 'antes', 'nuestros', 'tu', 'estada', 'estado', 'fui', 'suyas', 'sea', 'los', 'fueras', 'una', 'tengas', 'desde', 'como', 'sobre', 'mí', 'habías', 'muchos', 'este', 'estuvieseis', 'me', 'vuestro', 'sentido', 'tendréis', 'estuve', 'habidos', 'sentid', 'hubieras', 'ese', 'estas', 'estuviera', 'mis', 'porque', 'fuéramos', 'fuerais', 'tuve', 'nuestra', 'por', 'está', 'será', 'tuvieras', 'éramos', 'tiene', 'mío', 'unos', 'tienen', 'había', 'hubiesen', 'tuya', 'también', 'hasta', 'hubo', 'estabas', 'serás', 'estarán', 'habríamos', 'a', 'esta', 'sentidas', 'estés', 'estamos', 'hayas', 'contra', 'estaban', 'estarás', 'esté', 'estaríais', 'ni', 'sin', 'tenemos', 'seríais', 'estarían', 'tuyas', 'tienes', 'estuvisteis', 'del', 'quienes', 'estando', 'e', 'tendrás', 'era', 'vuestra', 'esos', 'teníais', 'tenía', 'qué', 'has', 'tenido', 'suyos', 'tendríais', 'vuestras', 'o', 'os', 'otras', 'hubieses', 'ellas', 'hubimos', 'siente', 'hubierais', 'eran', 'tuvieseis', 'suya', 'ya', 'hemos', 'tengáis', 'no', 'fuese', 'nuestras', 'tendré', 'serán', 'mi', 'están', 'algo', 'fuimos', 'habían', 'estabais', 'vosotras', 'somos', 'hubiese', 'otro', 'estaría', 'más', 'tuvisteis', 'te', 'estaréis', 'habrá', 'algunas', 'habida', 'fuiste', 'tenías', 'al', 'tenga', 'tanto', 'hubiésemos', 'estuvierais', 'ha', 'tuyo', 'hubiéramos', 'muy', 'hubiera', 'habiendo', 'seréis', 'habríais', 'se', 'otros', 'tuvo', 'sus', 'estén', 'tú', 'donde', 'cual', 'estáis', 'estadas', 'hubiste', 'ti', 'habrían', 'todos', 'habidas', 'hubieran', 'eres', 'con', 'estuviese', 'estuvimos', 'estuvo', 'ellos', 'hayamos', 'esa', 'fuisteis', 'sentidos', 'hubieseis'}\n"
          ]
        }
      ],
      "source": [
        "from nltk.corpus import stopwords\n",
        "print(set(stopwords.words('spanish')))"
      ]
    },
    {
      "cell_type": "markdown",
      "metadata": {
        "id": "0_DU9w9XzrFM"
      },
      "source": [
        "* Este listado de palabras se utiliza para eliminarlas de los textos.\n",
        "\n",
        "\n",
        "* Veamos a continuación como obtener las stop words de una frase tras su tokenización."
      ]
    },
    {
      "cell_type": "code",
      "execution_count": 9,
      "metadata": {
        "colab": {
          "base_uri": "https://localhost:8080/"
        },
        "id": "TfT0BjjHzrFM",
        "outputId": "c9a73ad8-6f5f-4a72-9783-041d6c2c7722"
      },
      "outputs": [
        {
          "output_type": "stream",
          "name": "stdout",
          "text": [
            "a\n",
            "por\n"
          ]
        }
      ],
      "source": [
        "doc = \"Un radar multa a Mariano Rajoy por caminar demasiado rapido\"\n",
        "words = nltk.word_tokenize(doc)\n",
        "for word in words:\n",
        "        if word in stopwords.words('spanish'):\n",
        "            print (word)"
      ]
    },
    {
      "cell_type": "markdown",
      "metadata": {
        "id": "I6aTA8vXzrFN"
      },
      "source": [
        "## 8.- Part of Speech (PoS)\n",
        "\n",
        "\n",
        "* Consiste en asignar una etiqueta de categoría a las partes tokenizadas de una oración: sustantivos, verbos, adjetivos, etc.\n",
        "\n",
        "\n",
        "* El PoS de NLTK solo esta disponible para el ingles y tiene las siguientes categorias:\n",
        "\n",
        "|Tag|Meaning|\n",
        "|---|---|\n",
        "|ADJ|adjective|\n",
        "|ADP|adposition|\n",
        "|ADV|adverb|\n",
        "|CONJ|conjunction|\n",
        "|DET|determiner|\n",
        "|NOUN|noun|\n",
        "|NUM|numeral|\n",
        "|PRT|particle|\n",
        "|PRON|pronoun|\n",
        "|VERB|verb|\n",
        "|.|punctuation|\n",
        "|X|other|\n",
        "\n",
        "\n",
        "* Nota: La tabla anterior no significa que solo asigne esas categorias, si no que tiene esas categorias y luego las va desgranando; por ejemplo, los verbos o adjetivos pueden ser de diferentes tipos y les pondrá una etiqueta en función de ese tipo.\n",
        "\n",
        "\n",
        "* Veamos a continuación un ejemplo:"
      ]
    },
    {
      "cell_type": "code",
      "execution_count": 10,
      "metadata": {
        "colab": {
          "base_uri": "https://localhost:8080/"
        },
        "id": "D4RlzoC5zrFN",
        "outputId": "5ac1e218-51b7-4ef9-b246-ce1c2414226f"
      },
      "outputs": [
        {
          "output_type": "stream",
          "name": "stdout",
          "text": [
            "[('Is', 'VBZ'), ('marathon', 'JJ'), ('running', 'VBG'), ('bad', 'JJ'), ('for', 'IN'), ('you', 'PRP'), ('?', '.')]\n"
          ]
        }
      ],
      "source": [
        "doc = nltk.word_tokenize('Is marathon running bad for you?')\n",
        "print (nltk.pos_tag(doc))"
      ]
    },
    {
      "cell_type": "markdown",
      "metadata": {
        "id": "x2seA3T8zrFN"
      },
      "source": [
        "### PoS en Español:\n",
        "\n",
        "\n",
        "* Para poder \"tagear\" correctamente las palabras en Español, tenemos que descargarnos un diccionario específico para esta lengua.\n",
        "\n",
        "\n",
        "* El grupo de Procesamiento de Lenguaje Natural de la Universidad de Stanford ha desarrollado un diccionario en castellano que nos pertime etiquetar las palabras.\n",
        "\n",
        "\n",
        "* En el siguiente enlace se puede ver su descripción: https://nlp.stanford.edu/software/spanish-faq.shtml\n",
        "\n",
        "\n",
        "* Para ello debemos de descargarnos el software especifico proporcionado por la universidad de Standford a través del siguiente enlace: https://nlp.stanford.edu/software/tagger.shtml\n",
        "\n",
        "\n",
        "* Una vez descargada la librería tenemos que:\n",
        "    1. Descomprimir el fichero\n",
        "    2. Obtener el jar: stanford-postagger-3.9.2.jar\n",
        "    3. Obtener el tagger spanish.tagger que se encuentra dentro de la carpeta models\n",
        "* Estos ficheros necesarios ya estan copiados dentro del proyecto en la carpeta 'libs'"
      ]
    },
    {
      "cell_type": "code",
      "execution_count": 12,
      "metadata": {
        "colab": {
          "base_uri": "https://localhost:8080/"
        },
        "id": "MdgtBolwzrFN",
        "outputId": "783afd6e-28f2-4deb-b7ef-0f34ef8c99df"
      },
      "outputs": [
        {
          "output_type": "stream",
          "name": "stdout",
          "text": [
            "[('Un', 'DI'), ('radar', 'NCS'), ('multa', 'NCS'), ('a', 'SP'), ('Mariano', 'NP'), ('Rajoy', 'NP'), ('por', 'SP'), ('caminar', 'VMN'), ('demasiado', 'RG'), ('rapido', 'AQ')]\n"
          ]
        }
      ],
      "source": [
        "from nltk.internals import find_jars_within_path\n",
        "from nltk.tag import StanfordPOSTagger\n",
        "\n",
        "jar = \"stanford-postagger-3.9.2.jar\"\n",
        "tagger_file = \"spanish.tagger\"\n",
        "\n",
        "tagger = StanfordPOSTagger(tagger_file, jar)\n",
        "\n",
        "doc = \"Un radar multa a Mariano Rajoy por caminar demasiado rapido\"\n",
        "words = nltk.word_tokenize(doc)\n",
        "tags = tagger.tag(words)\n",
        "print(tags)"
      ]
    },
    {
      "cell_type": "markdown",
      "metadata": {
        "id": "JvEx7t7JzrFN"
      },
      "source": [
        "* En este caso el \"taggeo\" es diferente al de NLTK.\n",
        "\n",
        "\n",
        "* Si nos fijamos en la documentación:\n",
        "    - ('Un', 'di0000') -> Article (indefinite)\n",
        "    - ('radar', 'nc0s000') -> Common noun (singular)\n",
        "    - ('multa', 'nc0s000') -> Common noun (singular)\n",
        "    - ('a', 'sp000') -> Preposition\n",
        "    - ('Mariano', 'np00000') -> Proper noun\n",
        "    - ('Rajoy', 'np00000') -> Proper noun\n",
        "    - ('por', 'sp000') -> Preposition\n",
        "    - ('caminar', 'vmn0000') -> Verb (main, infinitive)\n",
        "    - ('demasiado', 'rg') -> Adverb (general)\n",
        "    - ('rapido', 'aq0000')  -> Adjective (descriptive)"
      ]
    },
    {
      "cell_type": "markdown",
      "metadata": {
        "id": "3qpzrYMezrFN"
      },
      "source": [
        "## 9.- n-grams\n",
        "\n",
        "* Modelo de representación que selecciona secuencias contiguas de N elementos de la selección de texto."
      ]
    },
    {
      "cell_type": "code",
      "execution_count": 13,
      "metadata": {
        "colab": {
          "base_uri": "https://localhost:8080/"
        },
        "id": "nrOVzAaMzrFN",
        "outputId": "238d9939-102f-461c-931c-23dae9cb00e8"
      },
      "outputs": [
        {
          "output_type": "stream",
          "name": "stdout",
          "text": [
            "('Un', 'radar', 'multa')\n",
            "('radar', 'multa', 'a')\n",
            "('multa', 'a', 'Mariano')\n",
            "('a', 'Mariano', 'Rajoy')\n",
            "('Mariano', 'Rajoy', 'por')\n",
            "('Rajoy', 'por', 'caminar')\n",
            "('por', 'caminar', 'demasiado')\n",
            "('caminar', 'demasiado', 'rapido')\n"
          ]
        }
      ],
      "source": [
        "from nltk import ngrams\n",
        "doc = \"Un radar multa a Mariano Rajoy por caminar demasiado rapido\"\n",
        "words = nltk.word_tokenize(doc)\n",
        "num_elementos = 3\n",
        "n_grams = ngrams(words, num_elementos)\n",
        "for grams in n_grams:\n",
        "    print (grams)"
      ]
    }
  ],
  "metadata": {
    "kernelspec": {
      "display_name": "Python 3 (ipykernel)",
      "language": "python",
      "name": "python3"
    },
    "language_info": {
      "codemirror_mode": {
        "name": "ipython",
        "version": 3
      },
      "file_extension": ".py",
      "mimetype": "text/x-python",
      "name": "python",
      "nbconvert_exporter": "python",
      "pygments_lexer": "ipython3",
      "version": "3.7.11"
    },
    "colab": {
      "provenance": []
    }
  },
  "nbformat": 4,
  "nbformat_minor": 0
}