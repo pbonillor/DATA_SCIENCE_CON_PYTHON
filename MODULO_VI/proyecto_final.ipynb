{
  "cells": [
    {
      "cell_type": "markdown",
      "id": "139941b4",
      "metadata": {
        "id": "139941b4"
      },
      "source": [
        "# Introducción\n",
        "\n",
        "En este proyecto final se trabajará sobre un dataset sobre alquiler de bicicletas. El objetivo del proyecto final es predecir la demanda de bicicletas a partir de la combinación de datos históricos sobre demanda y clima.\n",
        "\n",
        "El conjunto de datos corresponde a datos de alquiler por hora y abarcan dos años de información. El subconjunto de *train* está compuesto por los primeros 19 días de cada mes, mientras que el subconjunto de *test* va desde 20 hasta el final del mes."
      ]
    },
    {
      "cell_type": "code",
      "execution_count": 3,
      "id": "f166004a",
      "metadata": {
        "ExecuteTime": {
          "end_time": "2022-03-23T09:56:14.478541Z",
          "start_time": "2022-03-23T09:56:13.418215Z"
        },
        "id": "f166004a"
      },
      "outputs": [],
      "source": [
        "#importe todas las librerias necesarias, por ejemplo\n",
        "import matplotlib.pyplot as plt\n",
        "import numpy as np\n",
        "import pandas as pd"
      ]
    },
    {
      "cell_type": "code",
      "source": [
        "#leea los dataset\n",
        "df_train = pd.read_csv('train.csv')\n",
        "df_test = pd.read_csv('test.csv')\n",
        "df_submission = pd.read_csv('sampleSubmission.csv')"
      ],
      "metadata": {
        "id": "z6TLnKLgX04T"
      },
      "id": "z6TLnKLgX04T",
      "execution_count": null,
      "outputs": []
    },
    {
      "cell_type": "markdown",
      "id": "76427c79",
      "metadata": {
        "id": "76427c79"
      },
      "source": [
        "## Parte 1 - Análisis de los datos"
      ]
    },
    {
      "cell_type": "markdown",
      "id": "5b5b587e",
      "metadata": {
        "solution2": "shown",
        "solution2_first": true,
        "id": "5b5b587e"
      },
      "source": [
        "#### Objetivos\n",
        "\n",
        " - Analizar el conjunto de datos con las diferentes funciones de *pandas* que crea pertinente."
      ]
    },
    {
      "cell_type": "code",
      "execution_count": null,
      "id": "0914d068",
      "metadata": {
        "id": "0914d068"
      },
      "outputs": [],
      "source": []
    },
    {
      "cell_type": "markdown",
      "id": "9570174a",
      "metadata": {
        "id": "9570174a"
      },
      "source": [
        "#### Preguntas:\n",
        "\n",
        " - ¿Qué efecto tiene el tiempo (meteorológico) sobre el alquiler de bicicletas? ¿Es el mismo para clientes registrados y casuales? ¿Coincide esto con lo que asumiría a priori?\n",
        " - Vamos a trabajar con las codificaciones por defecto (salvo datetime que veremos en la Parte 2). ¿Le parece adecuado?\n",
        " - ¿Qué puede decir sobre la correlación entre *season* y *casual*?\n"
      ]
    },
    {
      "cell_type": "markdown",
      "id": "85f9d76d",
      "metadata": {
        "id": "85f9d76d"
      },
      "source": [
        "<p style=\"font-size:13px; color:#BB0000;\">Respuesta a preguntas </p>"
      ]
    },
    {
      "cell_type": "markdown",
      "id": "145bd6e3",
      "metadata": {
        "id": "145bd6e3"
      },
      "source": [
        "## Parte 2 - Características temporales"
      ]
    },
    {
      "cell_type": "markdown",
      "id": "e472a9ac",
      "metadata": {
        "id": "e472a9ac"
      },
      "source": [
        "La primer columna de los datos (*datetime*) corresponde a las marcas de tiempo asociadas a cada instancia. Para que estos tengan el orden cronológico que representan es necesario pasarlos de tipo *string* a tipo *datetime*. Para esto *Pandas* proporciona la función *to_datetime()*. Correr la siguiente celda para hacer el cambio."
      ]
    },
    {
      "cell_type": "code",
      "execution_count": null,
      "id": "4a149a7f",
      "metadata": {
        "ExecuteTime": {
          "end_time": "2022-03-23T09:56:29.973689Z",
          "start_time": "2022-03-23T09:56:29.960591Z"
        },
        "id": "4a149a7f"
      },
      "outputs": [],
      "source": [
        "df_train['datetime'] = pd.to_datetime(df_train['datetime'])"
      ]
    },
    {
      "cell_type": "markdown",
      "id": "7e20c657",
      "metadata": {
        "id": "7e20c657"
      },
      "source": [
        "##### La figura siguiente muestra cómo varía la cantidad de bicicletas alquiladas en función del tiempo."
      ]
    },
    {
      "cell_type": "code",
      "execution_count": null,
      "id": "8e738874",
      "metadata": {
        "ExecuteTime": {
          "end_time": "2022-03-23T09:56:36.941365Z",
          "start_time": "2022-03-23T09:56:36.683551Z"
        },
        "id": "8e738874"
      },
      "outputs": [],
      "source": [
        "df_train.plot(x='datetime', y='count', figsize=[15,3],kind='scatter',color='tab:blue')\n",
        "plt.xlabel('datetime',fontsize='x-large')\n",
        "plt.ylabel('count',fontsize='x-large')\n",
        "plt.show()"
      ]
    },
    {
      "cell_type": "markdown",
      "id": "05b6fe1f",
      "metadata": {
        "id": "05b6fe1f"
      },
      "source": [
        "#### Preguntas:\n",
        "\n",
        "- ¿Le parece razonable la division en conjuntos de train y test que se tomó en el desafío?\n",
        "- ¿Cómo varían temporalmente (día, semana, mes, año) los alquileres?"
      ]
    },
    {
      "cell_type": "markdown",
      "id": "5633fd2b",
      "metadata": {
        "id": "5633fd2b"
      },
      "source": [
        "<p style=\"font-size:13px; color:#BB0000;\">Respuesta a preguntas </p>"
      ]
    },
    {
      "cell_type": "code",
      "execution_count": null,
      "id": "191a8991",
      "metadata": {
        "id": "191a8991"
      },
      "outputs": [],
      "source": []
    },
    {
      "cell_type": "markdown",
      "id": "ed253584",
      "metadata": {
        "id": "ed253584"
      },
      "source": [
        "El tipo de dato *datetime* permite extraer de forma sencilla datos categóricos como la hora, el día de la semana, entre otros. La siguiente celda agrega a los datos de *train* estas nuevas características."
      ]
    },
    {
      "cell_type": "code",
      "execution_count": null,
      "id": "e5cdd872",
      "metadata": {
        "ExecuteTime": {
          "end_time": "2022-03-23T09:56:39.984186Z",
          "start_time": "2022-03-23T09:56:39.979058Z"
        },
        "id": "e5cdd872"
      },
      "outputs": [],
      "source": [
        "df_train['hour'] = df_train['datetime'].dt.hour\n",
        "df_train['weekday'] = df_train['datetime'].dt.weekday\n",
        "\n",
        "df_train.head()"
      ]
    },
    {
      "cell_type": "markdown",
      "id": "eb303255",
      "metadata": {
        "solution2": "shown",
        "solution2_first": true,
        "id": "eb303255"
      },
      "source": [
        "#### Ejercicio:\n",
        "\n",
        " - Grafique count, registered y casual en función de las horas y el día de la semana. ([*Sugerencia:*](https://seaborn.pydata.org/generated/seaborn.barplot.html) Ejemplos de la librería *seaborn*)"
      ]
    },
    {
      "cell_type": "markdown",
      "id": "344669f7",
      "metadata": {
        "id": "344669f7"
      },
      "source": []
    },
    {
      "cell_type": "markdown",
      "id": "22c0ff89",
      "metadata": {
        "id": "22c0ff89"
      },
      "source": [
        "##### A partir de las gráficas responder las siguientes preguntas:\n",
        "\n",
        " - ¿Cómo explicaría la diferencia entre las distribuciones de los clientes registrados y casuales?\n",
        " - ¿Qué desventaja le encuentra a utilizar un regresor lineal para predecir los alquileres a partir de la hora del día?¿Cómo transformaría esta característica para paliar este problema?\n",
        " - ¿Es necesaria esta transformación cuando se utilizan Árboles de Decisión?"
      ]
    },
    {
      "cell_type": "code",
      "execution_count": null,
      "id": "cc82beca",
      "metadata": {
        "id": "cc82beca"
      },
      "outputs": [],
      "source": []
    },
    {
      "cell_type": "markdown",
      "id": "48985be3",
      "metadata": {
        "solution2": "shown",
        "solution2_first": true,
        "id": "48985be3"
      },
      "source": [
        "#### Selección de Características:\n",
        "\n",
        "*   Entre el día, el mes y el año ¿cuáles de estos datos les pareces agregar como nuevas características y cuáles no? y ¿Por qué?\n",
        "*   Agregar las características seleccionadas."
      ]
    },
    {
      "cell_type": "code",
      "execution_count": null,
      "id": "2595ee7a",
      "metadata": {
        "id": "2595ee7a"
      },
      "outputs": [],
      "source": []
    },
    {
      "cell_type": "markdown",
      "id": "c1f79692",
      "metadata": {
        "id": "c1f79692"
      },
      "source": [
        "## Parte 3 - Preparación de los datos y Métrica de evaluación"
      ]
    },
    {
      "cell_type": "markdown",
      "id": "a3dc26ee",
      "metadata": {
        "solution2": "shown",
        "solution2_first": true,
        "id": "a3dc26ee"
      },
      "source": [
        "Previo a trabajar con los estimadores:\n",
        "\n",
        "*   Apartar la columna objetivo y eliminarla del conjunto de entrenamiento.\n",
        "*   Eliminar las columnas *'casual'* y *'registered'*. ¿Por qué esto es necesario?.\n",
        "*   Eliminar la columna *'datetime'*.\n",
        "\n",
        "Durante la actividad los estimadores deben ser evaluados con la misma medida de desempeño utilizada en la competencia:\n",
        "\n",
        "Root Mean Squared Logarithmic Error (RMSLE)\n",
        "$$\\sqrt{\\frac{1}{n}\\sum_{i}^{n}\\big(\\log(y_{i} + 1) - \\log(\\hat{y}_{i} + 1)\\big)^2}$$\n",
        "\n",
        "Este tipo de medida se utiliza cuando los valores a estimar son grandes. La librería *Scikit-Learn* incluye la función de desempeño [*mean_squared_log_error*](https://scikit-learn.org/stable/modules/generated/sklearn.metrics.mean_squared_log_error.html#sklearn.metrics.mean_squared_log_error) (MSLE), esta función se puede utilizar  para la validación ya que alcanza las mismas soluciones que su raíz (RMSLE). De igual forma los resultados se deben mostrar con RMSLE."
      ]
    },
    {
      "cell_type": "code",
      "execution_count": null,
      "id": "9ed098fd",
      "metadata": {
        "id": "9ed098fd"
      },
      "outputs": [],
      "source": []
    },
    {
      "cell_type": "markdown",
      "id": "0963b059",
      "metadata": {
        "id": "0963b059"
      },
      "source": [
        "## Parte 4 - Decision Trees"
      ]
    },
    {
      "cell_type": "markdown",
      "id": "fe301094",
      "metadata": {
        "id": "fe301094"
      },
      "source": [
        "### TransformedTargetRegressor"
      ]
    },
    {
      "cell_type": "markdown",
      "id": "13662fe0",
      "metadata": {
        "id": "13662fe0"
      },
      "source": [
        "Observando los valores de las etiquetas se puede ver que la distribución de estos tiene una asimetría a la derecha, por lo que se puede aplicar una transformación logarítmica para que la distribución de las etiquetas sea más normal."
      ]
    },
    {
      "cell_type": "code",
      "execution_count": null,
      "id": "6e00dd7c",
      "metadata": {
        "id": "6e00dd7c"
      },
      "outputs": [],
      "source": [
        "plt.figure(figsize=(16,4))\n",
        "plt.subplot(1,2,1)\n",
        "y_train.hist(bins=20)\n",
        "plt.xlabel('count',fontsize='x-large')\n",
        "plt.subplot(1,2,2)\n",
        "np.log1p(y_train).hist(bins=20)\n",
        "plt.xlabel('log(count)',fontsize='x-large')\n",
        "plt.show()"
      ]
    },
    {
      "cell_type": "markdown",
      "id": "037240c7",
      "metadata": {
        "id": "037240c7"
      },
      "source": [
        "Si le pasamos al regresor estas etqiquetas tranformadas este predecirá el logaritmo de los alquileres, por lo que luego deberíamos calcular la exponencial del valor predicho. Por suerte, Scikit-Learn cuenta con la función [TransformedTargetRegressor](https://scikit-learn.org/stable/modules/generated/sklearn.compose.TransformedTargetRegressor.html) que resuelve este problema.\n",
        "\n",
        "**Nota: Consultar el Capítulo 2 del Libro del Curso por más información**"
      ]
    },
    {
      "cell_type": "markdown",
      "id": "55ee2243",
      "metadata": {
        "solution2": "shown",
        "solution2_first": true,
        "id": "55ee2243"
      },
      "source": [
        "#### Objetivos\n",
        "\n",
        "*   Importar la función *DecisionTreeRegressor()* de *Scikit-Learn* y utilizar *TransformedTargetRegressor* para tranformar logarítmicamente las etiquetas.\n",
        "*   Aplicar validación cruzada a un estimador con los hiper-parámetros por defecto. (Puede pasarle *random-state=2* al estimador para controlar la aleatoreidad del mismo)\n",
        "*   Graficar los valores de RMSLE de entrenamiento y validación. Calcular la media y la desviación estandar e incluir esta última en el gráfico. Para lo último utilizar la función *fill_between()* de *matplotlib*.\n",
        "\n",
        "**Nota:** Utilizar las funciones *np.log1p* y *np.expm1* para calcular el logaritmo y la exponencial respectivamente."
      ]
    },
    {
      "cell_type": "code",
      "execution_count": null,
      "id": "a539cfb0",
      "metadata": {
        "id": "a539cfb0"
      },
      "outputs": [],
      "source": []
    },
    {
      "cell_type": "markdown",
      "id": "0aea55bf",
      "metadata": {
        "solution2": "shown",
        "solution2_first": true,
        "id": "0aea55bf"
      },
      "source": [
        "#### Preguntas:\n",
        "\n",
        "*   ¿Qué fenómeno se logra apreciar en el gráfico? ¿A qué se debe? ¿Por qué esto es un problema?\n",
        "*   Indicar y describir alguno de los hiper-parámetros que la función *DecisionTreeRegressor()* ofrece para limitar la complejidad del estimador."
      ]
    },
    {
      "cell_type": "code",
      "execution_count": null,
      "id": "a797054f",
      "metadata": {
        "id": "a797054f"
      },
      "outputs": [],
      "source": []
    },
    {
      "cell_type": "markdown",
      "id": "4eddc5f6",
      "metadata": {
        "id": "4eddc5f6"
      },
      "source": [
        "#### Ejemplo Lack of smoothness\n",
        "\n",
        "Como ejemplo se tomará la siguiente situación:\n",
        "\n",
        " - Domingo\n",
        " - Despejado o Parcialmente nublado\n",
        " - A las 19 horas\n",
        " - En primavera\n",
        "\n",
        "Se observará el efecto de la temperatura en la predicción de alquileres de bicicletas.\n",
        "\n",
        " - ¿Cómo espera que sea dicho efecto en un rango de 10°C a 30°C?"
      ]
    },
    {
      "cell_type": "code",
      "execution_count": null,
      "id": "e32cf8a7",
      "metadata": {
        "ExecuteTime": {
          "end_time": "2022-03-23T10:03:25.364709Z",
          "start_time": "2022-03-23T10:03:25.357134Z"
        },
        "id": "e32cf8a7"
      },
      "outputs": [],
      "source": [
        "index = 2685\n",
        "Domingo = df_train.iloc[index:index+1]\n",
        "Domingo"
      ]
    },
    {
      "cell_type": "code",
      "execution_count": null,
      "id": "fcb6c319",
      "metadata": {
        "ExecuteTime": {
          "end_time": "2022-03-23T10:03:26.044368Z",
          "start_time": "2022-03-23T10:03:26.021338Z"
        },
        "id": "fcb6c319"
      },
      "outputs": [],
      "source": [
        "## Se crea un dataframe con los datos del domingo\n",
        "X_prueba = pd.concat([Domingo]*21,ignore_index=True)\n",
        "\n",
        "index = 0\n",
        "for k in np.linspace(10,30,21):\n",
        "    X_prueba.loc[index,'temp']= k\n",
        "    ## De igual manera se cambia la sensación térmica para mantener cierta coherencia\n",
        "    X_prueba.loc[index,'atemp']= k\n",
        "    index += 1"
      ]
    },
    {
      "cell_type": "code",
      "execution_count": null,
      "id": "841a9fe8",
      "metadata": {
        "ExecuteTime": {
          "end_time": "2022-03-23T10:03:27.700398Z",
          "start_time": "2022-03-23T10:03:27.460823Z"
        },
        "id": "841a9fe8"
      },
      "outputs": [],
      "source": [
        "## regressor es el nombre de la variable que contiene el modelo de arbol de decisión\n",
        "regressor.fit(df_train,y_train)\n",
        "\n",
        "plt.figure(figsize=(12,6))\n",
        "plt.stem(np.linspace(10,30,21),regressor.predict(X_prueba),bottom=120)\n",
        "plt.xlabel('Temperatura (°C)',fontsize='x-large')\n",
        "plt.ylabel('Count',fontsize='x-large')\n",
        "plt.xticks(np.linspace(10,30,11),fontsize='large')\n",
        "plt.yticks(fontsize='large')\n",
        "plt.savefig('cambios_temp.png')\n",
        "plt.show()"
      ]
    },
    {
      "cell_type": "markdown",
      "id": "68af4229",
      "metadata": {
        "id": "68af4229"
      },
      "source": [
        " - Observe el cambio que genera la temperatura a la salida (en particular el pasar de una temperatura de 23°C a 24°C, puede variar según la semilla, ver **Nota**).\n",
        "\n",
        " - ¿Qué desventaja le encuenta a los árboles de decisión en comparación con modelos lineales?\n",
        "\n",
        " **Nota:** Debido a la alta varianza de los Árboles de decisión los modelos obtenidos pueden variar de gran manera a efecto de pequeños cambios en el entrenamiento. En la carpeta se adjunta la imagen *cambios_temp.png* para que pueda discutir las preguntas a partir de la figura que se espera obtener."
      ]
    },
    {
      "cell_type": "code",
      "execution_count": null,
      "id": "9f126cb7",
      "metadata": {
        "id": "9f126cb7"
      },
      "outputs": [],
      "source": []
    },
    {
      "cell_type": "markdown",
      "id": "76dc0eda",
      "metadata": {
        "solution2": "shown",
        "solution2_first": true,
        "id": "76dc0eda"
      },
      "source": [
        "### Ajuste Fino\n",
        "\n",
        "#### Objetivos\n",
        "\n",
        "*   Seleccionar uno de los hiper-parámetros y encontrar el mejor estimador.\n",
        "*   Graficar los valores de RMSLE de entrenamiento y validación. Calcular la media y la desviación estandar e incluir esta última en el gráfico. Comparar con los resultados anteriores.\n",
        "*   Graficar cómo varían los valores de RMSLE de entrenamiento y validación, para diferentes valores del hiper-parámetro.\n",
        "*   Mostrar el mejor valor RMSLE (promedio de todos los *folds*) y el valor del hiper-parámetro.\n",
        "*   Visualizar el árbol hasta los nodos de profundidad 2 utilizando la función *plot_tree()*. Agrandar el tamaño de la imagen de manera de poder leer la descripción de cada nodo.\n",
        "*   Analizar las decisiones que está tomando el árbol para los primeros nodos.\n",
        "*   Graficar los primeros 200 valores objetivo junto con sus predicciones.\n",
        "\n",
        "**Nota:** Puede ser útil la función *save_gs_results()* que se encuentra en el archivo *comet_log.py* de la carpeta del taller para organizar sus experimentos con Comet."
      ]
    },
    {
      "cell_type": "code",
      "execution_count": null,
      "id": "1d8935f1",
      "metadata": {
        "id": "1d8935f1"
      },
      "outputs": [],
      "source": []
    },
    {
      "cell_type": "markdown",
      "id": "19c30000",
      "metadata": {
        "id": "19c30000"
      },
      "source": [
        "## Parte 5 - Random Forest"
      ]
    },
    {
      "cell_type": "markdown",
      "id": "8dd12c53",
      "metadata": {
        "id": "8dd12c53",
        "solution2": "shown",
        "solution2_first": true
      },
      "source": [
        "#### Preguntas sobre métodos de Ensamble:\n",
        "\n",
        "*   ¿Cuáles son las ventajes de los métodos de Ensamble?\n",
        "*   ¿A qué métodos de ensamble está asociado *Random Forest*?.\n",
        "*   Importar la función *RandomForestRegressor()* de *Scikit-Learn*.\n",
        "*   Indicar y describir los principales hiper-parámetros correspondientes a los métodos de ensamble que ofrece la función.\n",
        "\n",
        "\n"
      ]
    },
    {
      "cell_type": "code",
      "execution_count": null,
      "id": "866165f3",
      "metadata": {
        "id": "866165f3"
      },
      "outputs": [],
      "source": []
    },
    {
      "cell_type": "markdown",
      "id": "9818b9ca",
      "metadata": {
        "id": "9818b9ca",
        "solution2": "shown",
        "solution2_first": true
      },
      "source": [
        "#### Ajuste fino\n",
        "\n",
        "\n",
        "\n",
        "*   Encontrar el mejor estimador para *Random Forest* usando como estimador base el encontrado en la parte 4.\n",
        "*   Graficar los valores de RMSLE de entrenamiento y validación. Calcular la media y la desviación estandar e incluir esta última en el gráfico. Comparar con los resultados correspondientes de la parte 4.\n",
        "*   Mostrar el mejor valor de RMSLE (promedio de todos los folds) y compararlo con el de la parte 4. Mostrar los valores seleccionados de los hiper-parámetros.\n",
        "*   ¿Qué ventaja se pierde con repecto a usar un sólo árbol?\n",
        "*   Graficar los primeros 200 valores objetivo junto con sus predicciones. Comparar con el gráfico correspondiente de la parte 4.\n",
        "*   Mostrar la importancia de cada característica utilizando la variable *feature_importances_*.\n",
        "\n"
      ]
    },
    {
      "cell_type": "code",
      "execution_count": null,
      "id": "621a0dd8",
      "metadata": {
        "id": "621a0dd8"
      },
      "outputs": [],
      "source": []
    },
    {
      "cell_type": "markdown",
      "id": "49048049",
      "metadata": {
        "id": "49048049"
      },
      "source": [
        "## Parte 6 - Gradient Boosting"
      ]
    },
    {
      "cell_type": "markdown",
      "id": "86df3bf5",
      "metadata": {
        "id": "86df3bf5",
        "solution2": "shown",
        "solution2_first": true
      },
      "source": [
        "#### XGBoost\n",
        "\n",
        "*   Indicar cuál es la principal diferencia entre *Bagging* y *Boosting*.\n",
        "*   Importar la función *XGBRegressor()* de la librería [*xgboost*](https://github.com/dmlc/xgboost).\n",
        "*   Este estimador a diferencia de los anteriores puede devolver predicciones negativas para estos datos. Indicar en que caso se pueda dar esto y por qué esto no sucedía con los estimadores anteriores.\n",
        "*   Las predicciones negativas no pueden ser evaluadas por RMSLE. Por lo tanto, crear una nueva función de evaluación que fuerce a cero todos los valores negativos de las predicciones y luego calcule el valor de RMSLE. Para esto se debe utilizar la función *make_score* de *Sickit-Learn*, para que la nueva función pueda ser utilizada en las funciones de selección de modelos.\n",
        "\n",
        "\n",
        "**Nota:** *Scikit-Learn* ofrece una implementación de *Gradient Boosting*, pero *XGBRegressor()* es la implementación de [*eXtreme Gradient Boosting*](https://arxiv.org/pdf/1603.02754.pdf?__hstc=133736337.1bb630f9cde2cb5f07430159d50a3c91.1513641600097.1513641600098.1513641600099.1&__hssc=133736337.1.1513641600100&__hsfp=528229161) un variante del algoritmo tradicional que dentro de algunas ventajas requiere menos tiempo de entrenamiento. La implementación de las funciones de la librería son muy similares a las de *Scikit-Learn*, de igual forma aquí le dejamos un [ejemplo](https://www.kaggle.com/alexisbcook/xgboost) de cómo usarla.\n",
        "\n",
        "\n",
        "\n",
        "\n",
        "\n"
      ]
    },
    {
      "cell_type": "markdown",
      "id": "72f03baf",
      "metadata": {
        "id": "72f03baf"
      },
      "source": [
        "**Nota:** A partir de la versión **0.21** *Scikit-Learn* también ofrece una implementación de *Gradient Boosting* optimizada para data-sets grandes: [Histogram-based Gradient Boosting](https://scikit-learn.org/stable/modules/generated/sklearn.ensemble.HistGradientBoostingRegressor.html). Su funcionamiento se basa en agrupar en *bins* a los features de entrada, remplazandolos por integers. El número de *bins* es controlado por el hiperparámetro *max_bins*, el cual por defecto toma el valor 255 y no puede ser seteado a un valor mayor que este. En el Capítulo 7 del libro se encuentra más información acerca de este algoritmo."
      ]
    },
    {
      "cell_type": "code",
      "execution_count": null,
      "id": "c3a541a6",
      "metadata": {
        "id": "c3a541a6"
      },
      "outputs": [],
      "source": []
    },
    {
      "cell_type": "markdown",
      "id": "c6b1f9fa",
      "metadata": {
        "id": "c6b1f9fa",
        "solution2": "hidden",
        "solution2_first": true
      },
      "source": [
        "#### Ajuste fino\n",
        "\n",
        "\n",
        "\n",
        "*   Encontrar el mejor estimador para *Gradient Boosting* usando como estimador base el encontrado en la parte 4.\n",
        "*   Graficar los valores de RMSLE de entrenamiento y validación. Calcular la media y la desviación estandar e incluir esta última en el gráfico. Comparar con los gráficos correspondientes.\n",
        "*   Mostrar el mejor valor de RMSLE (promedio de todos los folds) y compararlo con los anteriores. Mostrar los valores seleccionados de los hiper-parámetros.\n",
        "*   Graficar los primeros 200 valores objetivo junto con sus predicciones. Comparar con los gráficos corespondientes.\n",
        "*   ¿Qué compromiso hay entre los hiper-parámetros *n_estimators* y *learning_rate*?\n",
        "\n"
      ]
    },
    {
      "cell_type": "code",
      "execution_count": null,
      "id": "16632ab0",
      "metadata": {
        "id": "16632ab0"
      },
      "outputs": [],
      "source": []
    },
    {
      "cell_type": "markdown",
      "id": "305ebb83",
      "metadata": {
        "id": "305ebb83",
        "solution2": "hidden",
        "solution2_first": true
      },
      "source": [
        "## Parte 7 - Custom Transformers\n",
        "\n",
        "- Construir un *Custom Transformer* que extraiga las caracterísicas temporales, siguiendo el ejemplo del capítulo 2 del libro."
      ]
    },
    {
      "cell_type": "code",
      "execution_count": null,
      "id": "ead2131e",
      "metadata": {
        "id": "ead2131e"
      },
      "outputs": [],
      "source": []
    },
    {
      "cell_type": "markdown",
      "id": "037a2664",
      "metadata": {
        "id": "037a2664"
      },
      "source": [
        "## Parte 8 - Generar un modelo"
      ]
    },
    {
      "cell_type": "markdown",
      "id": "24949b1b",
      "metadata": {
        "solution2": "hidden",
        "solution2_first": true,
        "id": "24949b1b"
      },
      "source": [
        "#### Objetivos:\n",
        "\n",
        " - Generar el mejor modelo posible. Se podrá explorar posibles mejoras en cualquiera de las siguientes etapas:\n",
        "\n",
        "    - Parámetros óptimos del regresor.\n",
        "    - Predicción de alquileres registered y casual por separado.\n",
        "    - Separación de conjunto de Entrenamiento y Validación tomando en cuenta la generación del conjunto de Test del desafío.\n",
        "    - Cambios en las características utilizadas. (Agregando o quitando alguna de ellas)"
      ]
    }
  ],
  "metadata": {
    "kernelspec": {
      "display_name": "Python 3",
      "language": "python",
      "name": "python3"
    },
    "language_info": {
      "codemirror_mode": {
        "name": "ipython",
        "version": 3
      },
      "file_extension": ".py",
      "mimetype": "text/x-python",
      "name": "python",
      "nbconvert_exporter": "python",
      "pygments_lexer": "ipython3",
      "version": "3.10.9"
    },
    "varInspector": {
      "cols": {
        "lenName": 16,
        "lenType": 16,
        "lenVar": 40
      },
      "kernels_config": {
        "python": {
          "delete_cmd_postfix": "",
          "delete_cmd_prefix": "del ",
          "library": "var_list.py",
          "varRefreshCmd": "print(var_dic_list())"
        },
        "r": {
          "delete_cmd_postfix": ") ",
          "delete_cmd_prefix": "rm(",
          "library": "var_list.r",
          "varRefreshCmd": "cat(var_dic_list()) "
        }
      },
      "types_to_exclude": [
        "module",
        "function",
        "builtin_function_or_method",
        "instance",
        "_Feature"
      ],
      "window_display": false
    },
    "colab": {
      "provenance": []
    }
  },
  "nbformat": 4,
  "nbformat_minor": 5
}